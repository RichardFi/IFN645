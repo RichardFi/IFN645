{
 "cells": [
  {
   "cell_type": "code",
   "execution_count": 22,
   "metadata": {},
   "outputs": [
    {
     "name": "stderr",
     "output_type": "stream",
     "text": [
      "/anaconda3/lib/python3.7/site-packages/IPython/core/interactiveshell.py:3185: DtypeWarning: Columns (27) have mixed types. Specify dtype option on import or set low_memory=False.\n",
      "  if (yield from self.run_code(code, result)):\n"
     ]
    },
    {
     "name": "stdout",
     "output_type": "stream",
     "text": [
      "<class 'pandas.core.frame.DataFrame'>\n",
      "Int64Index: 41294 entries, 0 to 41475\n",
      "Data columns (total 96 columns):\n",
      "VehYear                              41294 non-null int64\n",
      "VehOdo                               41294 non-null float64\n",
      "MMRAcquisitionAuctionAveragePrice    41294 non-null float64\n",
      "MMRAcquisitionAuctionCleanPrice      41294 non-null float64\n",
      "MMRAcquisitionRetailAveragePrice     41294 non-null float64\n",
      "MMRAcquisitonRetailCleanPrice        41294 non-null float64\n",
      "MMRCurrentAuctionAveragePrice        41294 non-null float64\n",
      "MMRCurrentAuctionCleanPrice          41294 non-null float64\n",
      "MMRCurrentRetailAveragePrice         41294 non-null float64\n",
      "MMRCurrentRetailCleanPrice           41294 non-null float64\n",
      "VehBCost                             41294 non-null int64\n",
      "IsOnlineSale                         41294 non-null bool\n",
      "IsBadBuy                             41294 non-null bool\n",
      "Auction_ADESA                        41294 non-null uint8\n",
      "Auction_MANHEIM                      41294 non-null uint8\n",
      "Auction_OTHER                        41294 non-null uint8\n",
      "Make_ACURA                           41294 non-null uint8\n",
      "Make_BUICK                           41294 non-null uint8\n",
      "Make_CADILLAC                        41294 non-null uint8\n",
      "Make_CHEVROLET                       41294 non-null uint8\n",
      "Make_CHRYSLER                        41294 non-null uint8\n",
      "Make_DODGE                           41294 non-null uint8\n",
      "Make_FORD                            41294 non-null uint8\n",
      "Make_GMC                             41294 non-null uint8\n",
      "Make_HONDA                           41294 non-null uint8\n",
      "Make_HYUNDAI                         41294 non-null uint8\n",
      "Make_INFINITI                        41294 non-null uint8\n",
      "Make_ISUZU                           41294 non-null uint8\n",
      "Make_JEEP                            41294 non-null uint8\n",
      "Make_KIA                             41294 non-null uint8\n",
      "Make_LEXUS                           41294 non-null uint8\n",
      "Make_LINCOLN                         41294 non-null uint8\n",
      "Make_MAZDA                           41294 non-null uint8\n",
      "Make_MERCURY                         41294 non-null uint8\n",
      "Make_MINI                            41294 non-null uint8\n",
      "Make_MITSUBISHI                      41294 non-null uint8\n",
      "Make_NISSAN                          41294 non-null uint8\n",
      "Make_OLDSMOBILE                      41294 non-null uint8\n",
      "Make_PONTIAC                         41294 non-null uint8\n",
      "Make_SATURN                          41294 non-null uint8\n",
      "Make_SCION                           41294 non-null uint8\n",
      "Make_SUBARU                          41294 non-null uint8\n",
      "Make_SUZUKI                          41294 non-null uint8\n",
      "Make_TOYOTA                          41294 non-null uint8\n",
      "Make_VOLKSWAGEN                      41294 non-null uint8\n",
      "Make_VOLVO                           41294 non-null uint8\n",
      "Transmission_AUTO                    41294 non-null uint8\n",
      "Transmission_MANUAL                  41294 non-null uint8\n",
      "WheelTypeID_1                        41294 non-null uint8\n",
      "WheelTypeID_2                        41294 non-null uint8\n",
      "WheelTypeID_3                        41294 non-null uint8\n",
      "WheelTypeID_?                        41294 non-null uint8\n",
      "Size_?                               41294 non-null uint8\n",
      "Size_COMPACT                         41294 non-null uint8\n",
      "Size_CROSSOVER                       41294 non-null uint8\n",
      "Size_LARGE                           41294 non-null uint8\n",
      "Size_LARGE SUV                       41294 non-null uint8\n",
      "Size_LARGE TRUCK                     41294 non-null uint8\n",
      "Size_MEDIUM                          41294 non-null uint8\n",
      "Size_MEDIUM SUV                      41294 non-null uint8\n",
      "Size_SMALL SUV                       41294 non-null uint8\n",
      "Size_SMALL TRUCK                     41294 non-null uint8\n",
      "Size_SPECIALTY                       41294 non-null uint8\n",
      "Size_SPORTS                          41294 non-null uint8\n",
      "Size_VAN                             41294 non-null uint8\n",
      "VNST_AL                              41294 non-null uint8\n",
      "VNST_AZ                              41294 non-null uint8\n",
      "VNST_CA                              41294 non-null uint8\n",
      "VNST_CO                              41294 non-null uint8\n",
      "VNST_FL                              41294 non-null uint8\n",
      "VNST_GA                              41294 non-null uint8\n",
      "VNST_ID                              41294 non-null uint8\n",
      "VNST_IL                              41294 non-null uint8\n",
      "VNST_IN                              41294 non-null uint8\n",
      "VNST_KY                              41294 non-null uint8\n",
      "VNST_LA                              41294 non-null uint8\n",
      "VNST_MO                              41294 non-null uint8\n",
      "VNST_MS                              41294 non-null uint8\n",
      "VNST_NC                              41294 non-null uint8\n",
      "VNST_NE                              41294 non-null uint8\n",
      "VNST_NH                              41294 non-null uint8\n",
      "VNST_NJ                              41294 non-null uint8\n",
      "VNST_NM                              41294 non-null uint8\n",
      "VNST_NV                              41294 non-null uint8\n",
      "VNST_NY                              41294 non-null uint8\n",
      "VNST_OH                              41294 non-null uint8\n",
      "VNST_OK                              41294 non-null uint8\n",
      "VNST_OR                              41294 non-null uint8\n",
      "VNST_PA                              41294 non-null uint8\n",
      "VNST_SC                              41294 non-null uint8\n",
      "VNST_TN                              41294 non-null uint8\n",
      "VNST_TX                              41294 non-null uint8\n",
      "VNST_UT                              41294 non-null uint8\n",
      "VNST_VA                              41294 non-null uint8\n",
      "VNST_WA                              41294 non-null uint8\n",
      "VNST_WV                              41294 non-null uint8\n",
      "dtypes: bool(2), float64(9), int64(2), uint8(83)\n",
      "memory usage: 7.1 MB\n"
     ]
    }
   ],
   "source": [
    "import numpy as np\n",
    "import pandas as pd\n",
    "\n",
    "from data_prep_test import data_prep\n",
    "\n",
    "from sklearn.model_selection import train_test_split\n",
    "from sklearn.metrics import classification_report, accuracy_score\n",
    "from sklearn.model_selection import GridSearchCV\n",
    "from sklearn.preprocessing import StandardScaler\n",
    "\n",
    "df = data_prep()\n",
    "\n",
    "df.info()"
   ]
  },
  {
   "cell_type": "code",
   "execution_count": 23,
   "metadata": {},
   "outputs": [
    {
     "name": "stdout",
     "output_type": "stream",
     "text": [
      "<class 'pandas.core.frame.DataFrame'>\n",
      "RangeIndex: 10676 entries, 0 to 10675\n",
      "Data columns (total 96 columns):\n",
      "VehYear                              10676 non-null int64\n",
      "VehOdo                               10676 non-null float64\n",
      "MMRAcquisitionAuctionAveragePrice    10676 non-null float64\n",
      "MMRAcquisitionAuctionCleanPrice      10676 non-null float64\n",
      "MMRAcquisitionRetailAveragePrice     10676 non-null float64\n",
      "MMRAcquisitonRetailCleanPrice        10676 non-null float64\n",
      "MMRCurrentAuctionAveragePrice        10676 non-null float64\n",
      "MMRCurrentAuctionCleanPrice          10676 non-null float64\n",
      "MMRCurrentRetailAveragePrice         10676 non-null float64\n",
      "MMRCurrentRetailCleanPrice           10676 non-null float64\n",
      "VehBCost                             10676 non-null int64\n",
      "IsOnlineSale                         10676 non-null bool\n",
      "IsBadBuy                             10676 non-null bool\n",
      "Auction_ADESA                        10676 non-null uint8\n",
      "Auction_MANHEIM                      10676 non-null uint8\n",
      "Auction_OTHER                        10676 non-null uint8\n",
      "Make_ACURA                           10676 non-null uint8\n",
      "Make_BUICK                           10676 non-null uint8\n",
      "Make_CADILLAC                        10676 non-null uint8\n",
      "Make_CHEVROLET                       10676 non-null uint8\n",
      "Make_CHRYSLER                        10676 non-null uint8\n",
      "Make_DODGE                           10676 non-null uint8\n",
      "Make_FORD                            10676 non-null uint8\n",
      "Make_GMC                             10676 non-null uint8\n",
      "Make_HONDA                           10676 non-null uint8\n",
      "Make_HYUNDAI                         10676 non-null uint8\n",
      "Make_INFINITI                        10676 non-null uint8\n",
      "Make_ISUZU                           10676 non-null uint8\n",
      "Make_JEEP                            10676 non-null uint8\n",
      "Make_KIA                             10676 non-null uint8\n",
      "Make_LEXUS                           10676 non-null uint8\n",
      "Make_LINCOLN                         10676 non-null uint8\n",
      "Make_MAZDA                           10676 non-null uint8\n",
      "Make_MERCURY                         10676 non-null uint8\n",
      "Make_MINI                            10676 non-null uint8\n",
      "Make_MITSUBISHI                      10676 non-null uint8\n",
      "Make_NISSAN                          10676 non-null uint8\n",
      "Make_OLDSMOBILE                      10676 non-null uint8\n",
      "Make_PONTIAC                         10676 non-null uint8\n",
      "Make_SATURN                          10676 non-null uint8\n",
      "Make_SCION                           10676 non-null uint8\n",
      "Make_SUBARU                          10676 non-null uint8\n",
      "Make_SUZUKI                          10676 non-null uint8\n",
      "Make_TOYOTA                          10676 non-null uint8\n",
      "Make_VOLKSWAGEN                      10676 non-null uint8\n",
      "Make_VOLVO                           10676 non-null uint8\n",
      "Transmission_AUTO                    10676 non-null uint8\n",
      "Transmission_MANUAL                  10676 non-null uint8\n",
      "WheelTypeID_1                        10676 non-null uint8\n",
      "WheelTypeID_2                        10676 non-null uint8\n",
      "WheelTypeID_3                        10676 non-null uint8\n",
      "WheelTypeID_?                        10676 non-null uint8\n",
      "Size_?                               10676 non-null uint8\n",
      "Size_COMPACT                         10676 non-null uint8\n",
      "Size_CROSSOVER                       10676 non-null uint8\n",
      "Size_LARGE                           10676 non-null uint8\n",
      "Size_LARGE SUV                       10676 non-null uint8\n",
      "Size_LARGE TRUCK                     10676 non-null uint8\n",
      "Size_MEDIUM                          10676 non-null uint8\n",
      "Size_MEDIUM SUV                      10676 non-null uint8\n",
      "Size_SMALL SUV                       10676 non-null uint8\n",
      "Size_SMALL TRUCK                     10676 non-null uint8\n",
      "Size_SPECIALTY                       10676 non-null uint8\n",
      "Size_SPORTS                          10676 non-null uint8\n",
      "Size_VAN                             10676 non-null uint8\n",
      "VNST_AL                              10676 non-null uint8\n",
      "VNST_AZ                              10676 non-null uint8\n",
      "VNST_CA                              10676 non-null uint8\n",
      "VNST_CO                              10676 non-null uint8\n",
      "VNST_FL                              10676 non-null uint8\n",
      "VNST_GA                              10676 non-null uint8\n",
      "VNST_ID                              10676 non-null uint8\n",
      "VNST_IL                              10676 non-null uint8\n",
      "VNST_IN                              10676 non-null uint8\n",
      "VNST_KY                              10676 non-null uint8\n",
      "VNST_LA                              10676 non-null uint8\n",
      "VNST_MO                              10676 non-null uint8\n",
      "VNST_MS                              10676 non-null uint8\n",
      "VNST_NC                              10676 non-null uint8\n",
      "VNST_NE                              10676 non-null uint8\n",
      "VNST_NH                              10676 non-null uint8\n",
      "VNST_NJ                              10676 non-null uint8\n",
      "VNST_NM                              10676 non-null uint8\n",
      "VNST_NV                              10676 non-null uint8\n",
      "VNST_NY                              10676 non-null uint8\n",
      "VNST_OH                              10676 non-null uint8\n",
      "VNST_OK                              10676 non-null uint8\n",
      "VNST_OR                              10676 non-null uint8\n",
      "VNST_PA                              10676 non-null uint8\n",
      "VNST_SC                              10676 non-null uint8\n",
      "VNST_TN                              10676 non-null uint8\n",
      "VNST_TX                              10676 non-null uint8\n",
      "VNST_UT                              10676 non-null uint8\n",
      "VNST_VA                              10676 non-null uint8\n",
      "VNST_WA                              10676 non-null uint8\n",
      "VNST_WV                              10676 non-null uint8\n",
      "dtypes: bool(2), float64(9), int64(2), uint8(83)\n",
      "memory usage: 1.8 MB\n",
      "None\n"
     ]
    },
    {
     "name": "stderr",
     "output_type": "stream",
     "text": [
      "/anaconda3/lib/python3.7/site-packages/ipykernel_launcher.py:23: FutureWarning: Method .as_matrix will be removed in a future version. Use .values instead.\n",
      "/anaconda3/lib/python3.7/site-packages/sklearn/utils/validation.py:595: DataConversionWarning: Data with input dtype object was converted to float64 by StandardScaler.\n",
      "  warnings.warn(msg, DataConversionWarning)\n",
      "/anaconda3/lib/python3.7/site-packages/sklearn/utils/validation.py:595: DataConversionWarning: Data with input dtype object was converted to float64 by StandardScaler.\n",
      "  warnings.warn(msg, DataConversionWarning)\n",
      "/anaconda3/lib/python3.7/site-packages/sklearn/utils/validation.py:595: DataConversionWarning: Data with input dtype object was converted to float64 by StandardScaler.\n",
      "  warnings.warn(msg, DataConversionWarning)\n"
     ]
    }
   ],
   "source": [
    "# random state\n",
    "rs = 10\n",
    "\n",
    "# Undersampling \n",
    "badBuy_indices = df[df['IsBadBuy'] == 0].index\n",
    "\n",
    "sample_size = sum(df.IsBadBuy == 1)\n",
    "\n",
    "random_indices = np.random.choice(badBuy_indices, sample_size, replace=False)\n",
    "\n",
    "non_badBuy_sample = df.loc[random_indices]\n",
    "\n",
    "badbuys_sample = df.loc[df['IsBadBuy']==1]\n",
    "\n",
    "sample_data = badbuys_sample.append(non_badBuy_sample,ignore_index=True)\n",
    "\n",
    "print(sample_data.info())\n",
    "\n",
    "# train test split\n",
    "y = sample_data['IsBadBuy']\n",
    "X = sample_data.drop(['IsBadBuy'], axis=1)\n",
    "\n",
    "X_mat = X.as_matrix()\n",
    "X_train, X_test, y_train, y_test = train_test_split(X_mat, y, test_size=0.3, stratify=y, random_state=rs)\n",
    "\n",
    "scaler = StandardScaler()\n",
    "X_train = scaler.fit_transform(X_train, y_train)\n",
    "X_test = scaler.transform(X_test)"
   ]
  },
  {
   "cell_type": "markdown",
   "metadata": {},
   "source": [
    "Task 4. Predictive Modeling Using Neural Networks"
   ]
  },
  {
   "cell_type": "markdown",
   "metadata": {},
   "source": [
    "1. Build a Neural Network model using the default setting."
   ]
  },
  {
   "cell_type": "code",
   "execution_count": 81,
   "metadata": {},
   "outputs": [
    {
     "name": "stdout",
     "output_type": "stream",
     "text": [
      "Train accuracy: 0.8970962130335876\n",
      "Test accuracy: 0.6450202934748673\n",
      "              precision    recall  f1-score   support\n",
      "\n",
      "       False       0.64      0.67      0.65      1601\n",
      "        True       0.65      0.62      0.64      1602\n",
      "\n",
      "   micro avg       0.65      0.65      0.65      3203\n",
      "   macro avg       0.65      0.65      0.64      3203\n",
      "weighted avg       0.65      0.65      0.64      3203\n",
      "\n",
      "MLPClassifier(activation='relu', alpha=0.0001, batch_size='auto', beta_1=0.9,\n",
      "       beta_2=0.999, early_stopping=False, epsilon=1e-08,\n",
      "       hidden_layer_sizes=(100,), learning_rate='constant',\n",
      "       learning_rate_init=0.001, max_iter=200, momentum=0.9,\n",
      "       n_iter_no_change=10, nesterovs_momentum=True, power_t=0.5,\n",
      "       random_state=10, shuffle=True, solver='adam', tol=0.0001,\n",
      "       validation_fraction=0.1, verbose=False, warm_start=False)\n"
     ]
    },
    {
     "name": "stderr",
     "output_type": "stream",
     "text": [
      "/anaconda3/lib/python3.7/site-packages/sklearn/neural_network/multilayer_perceptron.py:562: ConvergenceWarning: Stochastic Optimizer: Maximum iterations (200) reached and the optimization hasn't converged yet.\n",
      "  % self.max_iter, ConvergenceWarning)\n"
     ]
    }
   ],
   "source": [
    "# default neural network model\n",
    "from sklearn.neural_network import MLPClassifier\n",
    "\n",
    "model = MLPClassifier(random_state=rs)\n",
    "model.fit(X_train, y_train)\n",
    "\n",
    "print(\"Train accuracy:\", model.score(X_train, y_train))\n",
    "print(\"Test accuracy:\", model.score(X_test, y_test))\n",
    "\n",
    "y_pred = model.predict(X_test)\n",
    "print(classification_report(y_test, y_pred))\n",
    "\n",
    "print(model)"
   ]
  },
  {
   "cell_type": "markdown",
   "metadata": {},
   "source": [
    "a. What is the network architecture?"
   ]
  },
  {
   "cell_type": "markdown",
   "metadata": {},
   "source": [
    "b. How many iterations are needed to train this network?"
   ]
  },
  {
   "cell_type": "markdown",
   "metadata": {},
   "source": [
    "c. Do you see any sign of over-fitting?\n",
    "\n",
    "Yes, as the train accuracy is much higher than test accuracy."
   ]
  },
  {
   "cell_type": "markdown",
   "metadata": {},
   "source": [
    "d. Did the training process converge and resulted in the best model? \n",
    "\n",
    "No, as it warned and it is not the best model."
   ]
  },
  {
   "cell_type": "markdown",
   "metadata": {},
   "source": [
    "e. What is classification accuracy on training and test datasets?\n",
    "\n",
    "Train accuracy: 0.8970962130335876\n",
    "Test accuracy: 0.6450202934748673"
   ]
  },
  {
   "cell_type": "markdown",
   "metadata": {},
   "source": [
    "2. Refine this network by tuning it with GridSearchCV. "
   ]
  },
  {
   "cell_type": "code",
   "execution_count": 73,
   "metadata": {},
   "outputs": [
    {
     "name": "stdout",
     "output_type": "stream",
     "text": [
      "(7473, 95)\n"
     ]
    }
   ],
   "source": [
    "# See how many input features we have by printing out the train shape.\n",
    "print(X_train.shape)"
   ]
  },
  {
   "cell_type": "code",
   "execution_count": 74,
   "metadata": {},
   "outputs": [
    {
     "name": "stdout",
     "output_type": "stream",
     "text": [
      "Train accuracy: 0.7263481868058344\n",
      "Test accuracy: 0.6740555729004059\n",
      "              precision    recall  f1-score   support\n",
      "\n",
      "       False       0.66      0.73      0.69      1601\n",
      "        True       0.70      0.62      0.65      1602\n",
      "\n",
      "   micro avg       0.67      0.67      0.67      3203\n",
      "   macro avg       0.68      0.67      0.67      3203\n",
      "weighted avg       0.68      0.67      0.67      3203\n",
      "\n",
      "{'hidden_layer_sizes': (5,)}\n"
     ]
    }
   ],
   "source": [
    "# With 95 features, we will start tuning with one hidden layer of 5 to 96 neurons, increment of 15. \n",
    "params = {'hidden_layer_sizes': [(x,) for x in range(5, 96, 15)]}\n",
    "\n",
    "cv = GridSearchCV(param_grid=params, estimator=MLPClassifier(random_state=rs), cv=10, n_jobs=-1)\n",
    "cv.fit(X_train, y_train)\n",
    "\n",
    "print(\"Train accuracy:\", cv.score(X_train, y_train))\n",
    "print(\"Test accuracy:\", cv.score(X_test, y_test))\n",
    "\n",
    "y_pred = cv.predict(X_test)\n",
    "print(classification_report(y_test, y_pred))\n",
    "\n",
    "print(cv.best_params_)"
   ]
  },
  {
   "cell_type": "code",
   "execution_count": 76,
   "metadata": {},
   "outputs": [
    {
     "name": "stdout",
     "output_type": "stream",
     "text": [
      "Train accuracy: 0.7153753512645524\n",
      "Test accuracy: 0.6721823290665001\n",
      "              precision    recall  f1-score   support\n",
      "\n",
      "       False       0.65      0.73      0.69      1601\n",
      "        True       0.70      0.61      0.65      1602\n",
      "\n",
      "   micro avg       0.67      0.67      0.67      3203\n",
      "   macro avg       0.67      0.67      0.67      3203\n",
      "weighted avg       0.67      0.67      0.67      3203\n",
      "\n",
      "{'hidden_layer_sizes': (3,)}\n"
     ]
    },
    {
     "name": "stderr",
     "output_type": "stream",
     "text": [
      "/anaconda3/lib/python3.7/site-packages/sklearn/neural_network/multilayer_perceptron.py:562: ConvergenceWarning: Stochastic Optimizer: Maximum iterations (200) reached and the optimization hasn't converged yet.\n",
      "  % self.max_iter, ConvergenceWarning)\n"
     ]
    }
   ],
   "source": [
    "# new parameters\n",
    "params = {'hidden_layer_sizes': [(3,), (5,), (7,), (9,)]}\n",
    "\n",
    "cv = GridSearchCV(param_grid=params, estimator=MLPClassifier(random_state=rs), cv=10, n_jobs=-1)\n",
    "cv.fit(X_train, y_train)\n",
    "\n",
    "print(\"Train accuracy:\", cv.score(X_train, y_train))\n",
    "print(\"Test accuracy:\", cv.score(X_test, y_test))\n",
    "\n",
    "y_pred = cv.predict(X_test)\n",
    "print(classification_report(y_test, y_pred))\n",
    "\n",
    "print(cv.best_params_)\n"
   ]
  },
  {
   "cell_type": "code",
   "execution_count": 79,
   "metadata": {},
   "outputs": [
    {
     "name": "stdout",
     "output_type": "stream",
     "text": [
      "Train accuracy: 0.7280877826843303\n",
      "Test accuracy: 0.6718701217608493\n",
      "              precision    recall  f1-score   support\n",
      "\n",
      "       False       0.66      0.72      0.69      1601\n",
      "        True       0.69      0.62      0.65      1602\n",
      "\n",
      "   micro avg       0.67      0.67      0.67      3203\n",
      "   macro avg       0.67      0.67      0.67      3203\n",
      "weighted avg       0.67      0.67      0.67      3203\n",
      "\n",
      "{'alpha': 1e-05, 'hidden_layer_sizes': (5,)}\n"
     ]
    }
   ],
   "source": [
    "params = {'hidden_layer_sizes': [(3,), (5,), (7,), (9,)], 'alpha': [0.01,0.001, 0.0001, 0.00001]}\n",
    "\n",
    "cv = GridSearchCV(param_grid=params, estimator=MLPClassifier(random_state=rs), cv=10, n_jobs=-1)\n",
    "cv.fit(X_train, y_train)\n",
    "\n",
    "print(\"Train accuracy:\", cv.score(X_train, y_train))\n",
    "print(\"Test accuracy:\", cv.score(X_test, y_test))\n",
    "\n",
    "y_pred = cv.predict(X_test)\n",
    "print(classification_report(y_test, y_pred))\n",
    "\n",
    "print(cv.best_params_)"
   ]
  },
  {
   "cell_type": "markdown",
   "metadata": {},
   "source": [
    "c. Sign of overfitting?\n",
    "\n",
    "It still has overfitting as train accuracy is higher than test accuracy but it is reduced."
   ]
  },
  {
   "cell_type": "markdown",
   "metadata": {},
   "source": [
    "d. Did the training process converge and resulted in the best model? \n",
    "\n",
    "Yes."
   ]
  },
  {
   "cell_type": "markdown",
   "metadata": {},
   "source": [
    "e. What is classification accuracy on training and test datasets? Is there any improvement in the outcome?\n",
    "\n",
    "Train accuracy: 0.7280877826843303\n",
    "Test accuracy: 0.6718701217608493\n",
    "\n",
    "Yes, the overfitting is reduced and f1-score is increasing which mean it is a better model."
   ]
  },
  {
   "cell_type": "code",
   "execution_count": null,
   "metadata": {},
   "outputs": [],
   "source": []
  },
  {
   "cell_type": "code",
   "execution_count": null,
   "metadata": {},
   "outputs": [],
   "source": []
  }
 ],
 "metadata": {
  "kernelspec": {
   "display_name": "Python 3",
   "language": "python",
   "name": "python3"
  },
  "language_info": {
   "codemirror_mode": {
    "name": "ipython",
    "version": 3
   },
   "file_extension": ".py",
   "mimetype": "text/x-python",
   "name": "python",
   "nbconvert_exporter": "python",
   "pygments_lexer": "ipython3",
   "version": "3.7.1"
  }
 },
 "nbformat": 4,
 "nbformat_minor": 2
}
