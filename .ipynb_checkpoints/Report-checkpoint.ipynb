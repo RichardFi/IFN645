{
 "cells": [
  {
   "cell_type": "markdown",
   "metadata": {},
   "source": [
    "# Predictive Data Mining\n",
    "IFN645 - Data Mining Technologies and Applications\n",
    "Due date: 7th April, 2019\n",
    "\n",
    "Before answering any questions we need to import the neccessary libraries and data:"
   ]
  },
  {
   "cell_type": "code",
   "execution_count": 43,
   "metadata": {},
   "outputs": [
    {
     "name": "stderr",
     "output_type": "stream",
     "text": [
      "/anaconda3/lib/python3.7/site-packages/IPython/core/interactiveshell.py:3020: DtypeWarning: Columns (27) have mixed types. Specify dtype option on import or set low_memory=False.\n",
      "  interactivity=interactivity, compiler=compiler, result=result)\n"
     ]
    }
   ],
   "source": [
    "import numpy as np\n",
    "import pandas as pd\n",
    "import matplotlib.pyplot as plt\n",
    "from sklearn.metrics import roc_auc_score\n",
    "import seaborn as sns\n",
    "from sklearn.ensemble import VotingClassifier\n",
    "from sklearn.model_selection import train_test_split\n",
    "from sklearn.metrics import classification_report, accuracy_score\n",
    "from sklearn.model_selection import GridSearchCV\n",
    "from sklearn.linear_model import LogisticRegression\n",
    "from sklearn.preprocessing import StandardScaler\n",
    "from sklearn.tree import DecisionTreeClassifier\n",
    "from sklearn.metrics import classification_report, accuracy_score\n",
    "df = pd.read_csv('./data.csv')\n",
    "\n",
    "# Toggle whether or not to show output.\n",
    "verbose = True\n",
    "quick_mode = False\n",
    "target_value = \"IsBadBuy\""
   ]
  },
  {
   "cell_type": "markdown",
   "metadata": {},
   "source": [
    "### Task 1 - Data Selection and Distribution. \n",
    "#### 1.1 What is the proportion of cars who can be classified as a “kick”?\n",
    "The proportion of *kicks* can be calculated using the function .mean() because the data is stored binary in the column *IsBadBuy*.  12.95% of the cars are *kicks* in the provided dataset."
   ]
  },
  {
   "cell_type": "code",
   "execution_count": 44,
   "metadata": {},
   "outputs": [
    {
     "name": "stdout",
     "output_type": "stream",
     "text": [
      "Percentage of kicks: 12.94965763333012%\n"
     ]
    }
   ],
   "source": [
    "if(verbose):\n",
    "    print(\"Percentage of kicks: \" + str(df[target_value].mean() * 100) + \"%\")"
   ]
  },
  {
   "cell_type": "markdown",
   "metadata": {},
   "source": [
    "#### 1.2 Did you have to fix any data quality problems? Detail them.\n",
    "We found a bunch of data quality problems that we had to take care of.\n",
    "\n",
    "Almost all data was missing on 44 of the rows, so we decided to remove them from the dataset. The percentage of *kicks* remained 12.95%."
   ]
  },
  {
   "cell_type": "code",
   "execution_count": 45,
   "metadata": {},
   "outputs": [
    {
     "name": "stdout",
     "output_type": "stream",
     "text": [
      "       PurchaseID  PurchaseTimestamp      PurchaseDate Auction  VehYear Make  \\\n",
      "20512       20512         1279065600  14/07/2010 10:00     NaN        0  NaN   \n",
      "20513       20513         1279065600  14/07/2010 10:00     NaN        0  NaN   \n",
      "20514       20514         1279065600  14/07/2010 10:00     NaN        0  NaN   \n",
      "20515       20515         1279065600  14/07/2010 10:00     NaN        0  NaN   \n",
      "20516       20516         1279065600  14/07/2010 10:00     NaN        0  NaN   \n",
      "20676       20676         1286496000   8/10/2010 10:00     NaN        0  NaN   \n",
      "20677       20677         1286496000   8/10/2010 10:00     NaN        0  NaN   \n",
      "20678       20678         1286928000  13/10/2010 10:00     NaN        0  NaN   \n",
      "20679       20679         1286928000  13/10/2010 10:00     NaN        0  NaN   \n",
      "20680       20680         1286928000  13/10/2010 10:00     NaN        0  NaN   \n",
      "20681       20681         1286928000  13/10/2010 10:00     NaN        0  NaN   \n",
      "20682       20682         1286928000  13/10/2010 10:00     NaN        0  NaN   \n",
      "20683       20683         1286928000  13/10/2010 10:00     NaN        0  NaN   \n",
      "20684       20684         1286928000  13/10/2010 10:00     NaN        0  NaN   \n",
      "20685       20685         1286928000  13/10/2010 10:00     NaN        0  NaN   \n",
      "20686       20686         1286928000  13/10/2010 10:00     NaN        0  NaN   \n",
      "20687       20687         1286928000  13/10/2010 10:00     NaN        0  NaN   \n",
      "20688       20688         1286928000  13/10/2010 10:00     NaN        0  NaN   \n",
      "20689       20689         1286928000  13/10/2010 10:00     NaN        0  NaN   \n",
      "20690       20690         1286928000  13/10/2010 10:00     NaN        0  NaN   \n",
      "20691       20691         1286928000  13/10/2010 10:00     NaN        0  NaN   \n",
      "20692       20692         1286928000  13/10/2010 10:00     NaN        0  NaN   \n",
      "20693       20693         1286928000  13/10/2010 10:00     NaN        0  NaN   \n",
      "20694       20694         1286928000  13/10/2010 10:00     NaN        0  NaN   \n",
      "20695       20695         1286928000  13/10/2010 10:00     NaN        0  NaN   \n",
      "20696       20696         1286928000  13/10/2010 10:00     NaN        0  NaN   \n",
      "20697       20697         1286928000  13/10/2010 10:00     NaN        0  NaN   \n",
      "20698       20698         1286928000  13/10/2010 10:00     NaN        0  NaN   \n",
      "20699       20699         1286928000  13/10/2010 10:00     NaN        0  NaN   \n",
      "20700       20700         1286928000  13/10/2010 10:00     NaN        0  NaN   \n",
      "20701       20701         1286928000  13/10/2010 10:00     NaN        0  NaN   \n",
      "20702       20702         1286928000  13/10/2010 10:00     NaN        0  NaN   \n",
      "20703       20703         1286928000  13/10/2010 10:00     NaN        0  NaN   \n",
      "20704       20704         1286928000  13/10/2010 10:00     NaN        0  NaN   \n",
      "20705       20705         1286928000  13/10/2010 10:00     NaN        0  NaN   \n",
      "20706       20706         1286928000  13/10/2010 10:00     NaN        0  NaN   \n",
      "20707       20707         1286928000  13/10/2010 10:00     NaN        0  NaN   \n",
      "20708       20708         1286928000  13/10/2010 10:00     NaN        0  NaN   \n",
      "20709       20709         1286928000  13/10/2010 10:00     NaN        0  NaN   \n",
      "20710       20710         1286928000  13/10/2010 10:00     NaN        0  NaN   \n",
      "20711       20711         1286928000  13/10/2010 10:00     NaN        0  NaN   \n",
      "20712       20712         1286928000  13/10/2010 10:00     NaN        0  NaN   \n",
      "20713       20713         1286928000  13/10/2010 10:00     NaN        0  NaN   \n",
      "20714       20714         1286928000  13/10/2010 10:00     NaN        0  NaN   \n",
      "\n",
      "      Color Transmission WheelTypeID WheelType   ...     \\\n",
      "20512   NaN          NaN         NaN       NaN   ...      \n",
      "20513   NaN          NaN         NaN       NaN   ...      \n",
      "20514   NaN          NaN         NaN       NaN   ...      \n",
      "20515   NaN          NaN         NaN       NaN   ...      \n",
      "20516   NaN          NaN         NaN       NaN   ...      \n",
      "20676   NaN          NaN         NaN       NaN   ...      \n",
      "20677   NaN          NaN         NaN       NaN   ...      \n",
      "20678   NaN          NaN         NaN       NaN   ...      \n",
      "20679   NaN          NaN         NaN       NaN   ...      \n",
      "20680   NaN          NaN         NaN       NaN   ...      \n",
      "20681   NaN          NaN         NaN       NaN   ...      \n",
      "20682   NaN          NaN         NaN       NaN   ...      \n",
      "20683   NaN          NaN         NaN       NaN   ...      \n",
      "20684   NaN          NaN         NaN       NaN   ...      \n",
      "20685   NaN          NaN         NaN       NaN   ...      \n",
      "20686   NaN          NaN         NaN       NaN   ...      \n",
      "20687   NaN          NaN         NaN       NaN   ...      \n",
      "20688   NaN          NaN         NaN       NaN   ...      \n",
      "20689   NaN          NaN         NaN       NaN   ...      \n",
      "20690   NaN          NaN         NaN       NaN   ...      \n",
      "20691   NaN          NaN         NaN       NaN   ...      \n",
      "20692   NaN          NaN         NaN       NaN   ...      \n",
      "20693   NaN          NaN         NaN       NaN   ...      \n",
      "20694   NaN          NaN         NaN       NaN   ...      \n",
      "20695   NaN          NaN         NaN       NaN   ...      \n",
      "20696   NaN          NaN         NaN       NaN   ...      \n",
      "20697   NaN          NaN         NaN       NaN   ...      \n",
      "20698   NaN          NaN         NaN       NaN   ...      \n",
      "20699   NaN          NaN         NaN       NaN   ...      \n",
      "20700   NaN          NaN         NaN       NaN   ...      \n",
      "20701   NaN          NaN         NaN       NaN   ...      \n",
      "20702   NaN          NaN         NaN       NaN   ...      \n",
      "20703   NaN          NaN         NaN       NaN   ...      \n",
      "20704   NaN          NaN         NaN       NaN   ...      \n",
      "20705   NaN          NaN         NaN       NaN   ...      \n",
      "20706   NaN          NaN         NaN       NaN   ...      \n",
      "20707   NaN          NaN         NaN       NaN   ...      \n",
      "20708   NaN          NaN         NaN       NaN   ...      \n",
      "20709   NaN          NaN         NaN       NaN   ...      \n",
      "20710   NaN          NaN         NaN       NaN   ...      \n",
      "20711   NaN          NaN         NaN       NaN   ...      \n",
      "20712   NaN          NaN         NaN       NaN   ...      \n",
      "20713   NaN          NaN         NaN       NaN   ...      \n",
      "20714   NaN          NaN         NaN       NaN   ...      \n",
      "\n",
      "       MMRCurrentRetailCleanPrice MMRCurrentRetailRatio PRIMEUNIT AUCGUART  \\\n",
      "20512                         NaN                   NaN       NaN      NaN   \n",
      "20513                         NaN                   NaN       NaN      NaN   \n",
      "20514                         NaN                   NaN       NaN      NaN   \n",
      "20515                         NaN                   NaN       NaN      NaN   \n",
      "20516                         NaN                   NaN       NaN      NaN   \n",
      "20676                         NaN                   NaN       NaN      NaN   \n",
      "20677                         NaN                   NaN       NaN      NaN   \n",
      "20678                         NaN                   NaN       NaN      NaN   \n",
      "20679                         NaN                   NaN       NaN      NaN   \n",
      "20680                         NaN                   NaN       NaN      NaN   \n",
      "20681                         NaN                   NaN       NaN      NaN   \n",
      "20682                         NaN                   NaN       NaN      NaN   \n",
      "20683                         NaN                   NaN       NaN      NaN   \n",
      "20684                         NaN                   NaN       NaN      NaN   \n",
      "20685                         NaN                   NaN       NaN      NaN   \n",
      "20686                         NaN                   NaN       NaN      NaN   \n",
      "20687                         NaN                   NaN       NaN      NaN   \n",
      "20688                         NaN                   NaN       NaN      NaN   \n",
      "20689                         NaN                   NaN       NaN      NaN   \n",
      "20690                         NaN                   NaN       NaN      NaN   \n",
      "20691                         NaN                   NaN       NaN      NaN   \n",
      "20692                         NaN                   NaN       NaN      NaN   \n",
      "20693                         NaN                   NaN       NaN      NaN   \n",
      "20694                         NaN                   NaN       NaN      NaN   \n",
      "20695                         NaN                   NaN       NaN      NaN   \n",
      "20696                         NaN                   NaN       NaN      NaN   \n",
      "20697                         NaN                   NaN       NaN      NaN   \n",
      "20698                         NaN                   NaN       NaN      NaN   \n",
      "20699                         NaN                   NaN       NaN      NaN   \n",
      "20700                         NaN                   NaN       NaN      NaN   \n",
      "20701                         NaN                   NaN       NaN      NaN   \n",
      "20702                         NaN                   NaN       NaN      NaN   \n",
      "20703                         NaN                   NaN       NaN      NaN   \n",
      "20704                         NaN                   NaN       NaN      NaN   \n",
      "20705                         NaN                   NaN       NaN      NaN   \n",
      "20706                         NaN                   NaN       NaN      NaN   \n",
      "20707                         NaN                   NaN       NaN      NaN   \n",
      "20708                         NaN                   NaN       NaN      NaN   \n",
      "20709                         NaN                   NaN       NaN      NaN   \n",
      "20710                         NaN                   NaN       NaN      NaN   \n",
      "20711                         NaN                   NaN       NaN      NaN   \n",
      "20712                         NaN                   NaN       NaN      NaN   \n",
      "20713                         NaN                   NaN       NaN      NaN   \n",
      "20714                         NaN                   NaN       NaN      NaN   \n",
      "\n",
      "      VNST VehBCost IsOnlineSale WarrantyCost ForSale IsBadBuy  \n",
      "20512  NaN      NaN          NaN          NaN     Yes        0  \n",
      "20513  NaN      NaN          NaN          NaN     Yes        0  \n",
      "20514  NaN      NaN          NaN          NaN     Yes        0  \n",
      "20515  NaN      NaN          NaN          NaN     Yes        0  \n",
      "20516  NaN      NaN          NaN          NaN     Yes        0  \n",
      "20676  NaN      NaN          NaN          NaN     Yes        0  \n",
      "20677  NaN      NaN          NaN          NaN     Yes        0  \n",
      "20678  NaN      NaN          NaN          NaN     Yes        0  \n",
      "20679  NaN      NaN          NaN          NaN     Yes        0  \n",
      "20680  NaN      NaN          NaN          NaN     Yes        0  \n",
      "20681  NaN      NaN          NaN          NaN     Yes        0  \n",
      "20682  NaN      NaN          NaN          NaN     Yes        0  \n",
      "20683  NaN      NaN          NaN          NaN     Yes        0  \n",
      "20684  NaN      NaN          NaN          NaN     Yes        0  \n",
      "20685  NaN      NaN          NaN          NaN     Yes        1  \n",
      "20686  NaN      NaN          NaN          NaN     Yes        0  \n",
      "20687  NaN      NaN          NaN          NaN     Yes        0  \n",
      "20688  NaN      NaN          NaN          NaN     Yes        0  \n",
      "20689  NaN      NaN          NaN          NaN     Yes        1  \n",
      "20690  NaN      NaN          NaN          NaN     Yes        0  \n",
      "20691  NaN      NaN          NaN          NaN     Yes        1  \n",
      "20692  NaN      NaN          NaN          NaN     Yes        0  \n",
      "20693  NaN      NaN          NaN          NaN     Yes        0  \n",
      "20694  NaN      NaN          NaN          NaN     Yes        0  \n",
      "20695  NaN      NaN          NaN          NaN     Yes        0  \n",
      "20696  NaN      NaN          NaN          NaN     Yes        1  \n",
      "20697  NaN      NaN          NaN          NaN     Yes        0  \n",
      "20698  NaN      NaN          NaN          NaN     Yes        1  \n",
      "20699  NaN      NaN          NaN          NaN     Yes        0  \n",
      "20700  NaN      NaN          NaN          NaN     Yes        0  \n",
      "20701  NaN      NaN          NaN          NaN     Yes        0  \n",
      "20702  NaN      NaN          NaN          NaN     Yes        0  \n",
      "20703  NaN      NaN          NaN          NaN     Yes        0  \n",
      "20704  NaN      NaN          NaN          NaN     Yes        0  \n",
      "20705  NaN      NaN          NaN          NaN     Yes        0  \n",
      "20706  NaN      NaN          NaN          NaN     Yes        0  \n",
      "20707  NaN      NaN          NaN          NaN     Yes        0  \n",
      "20708  NaN      NaN          NaN          NaN     Yes        1  \n",
      "20709  NaN      NaN          NaN          NaN     Yes        0  \n",
      "20710  NaN      NaN          NaN          NaN     Yes        0  \n",
      "20711  NaN      NaN          NaN          NaN     Yes        0  \n",
      "20712  NaN      NaN          NaN          NaN     Yes        0  \n",
      "20713  NaN      NaN          NaN          NaN     Yes        0  \n",
      "20714  NaN      NaN          NaN          NaN     Yes        0  \n",
      "\n",
      "[44 rows x 31 columns]\n"
     ]
    }
   ],
   "source": [
    "c_name = \"VehYear\"\n",
    "df[c_name] = df[c_name].fillna(0).astype(int)\n",
    "if(verbose):\n",
    "    print(df.loc[df[c_name] == 0])\n",
    "df = df[df[c_name] != 0]"
   ]
  },
  {
   "cell_type": "markdown",
   "metadata": {},
   "source": [
    "Some columns required data cleaning. As we did not have a data/domain expert available we had to make some assumptions:\n",
    "- *Manual* and *MANUAL* is assumed to be the same in the column *Transmission*.\n",
    "- All values except 0 and 0.0 is assumed to be 1 in the column *IsOnlineSale*.\n",
    "- *IsOnlineSale* should be represented as a binary value.\n",
    "- *IsBadBuy* should be represented as binary value.\n",
    "- All *MMR...* values should be interpreted as numbers, not strings.\n",
    "- *WheelType* empty cells should be *?*."
   ]
  },
  {
   "cell_type": "code",
   "execution_count": 46,
   "metadata": {},
   "outputs": [
    {
     "name": "stdout",
     "output_type": "stream",
     "text": [
      "['AUTO' 'MANUAL' 'Manual' '?']\n",
      "['AUTO' 'MANUAL' '?']\n"
     ]
    },
    {
     "data": {
      "image/png": "[encoded data removed]",
      "text/plain": [
       "<Figure size 432x288 with 1 Axes>"
      ]
     },
     "metadata": {
      "needs_background": "light"
     },
     "output_type": "display_data"
    },
    {
     "data": {
      "image/png": "[encoded data removed]",
      "text/plain": [
       "<Figure size 432x288 with 1 Axes>"
      ]
     },
     "metadata": {
      "needs_background": "light"
     },
     "output_type": "display_data"
    }
   ],
   "source": [
    "c_name = \"Transmission\"\n",
    "if(verbose):\n",
    "    print(df[c_name].unique())\n",
    "df[c_name] = df[c_name].mask(df[c_name] == \"Manual\", \"MANUAL\")\n",
    "if(verbose):\n",
    "    print(df[c_name].unique())\n",
    "    \n",
    "c_name = \"IsOnlineSale\"\n",
    "if(verbose):\n",
    "    dg = sns.countplot(data=df, x=c_name)\n",
    "    plt.show()\n",
    "\n",
    "df[c_name] = df[c_name].mask(df[c_name] == 0.0, \"0\")\n",
    "df[c_name] = np.where(df[c_name] == \"0\", False, True)\n",
    "\n",
    "if(verbose):\n",
    "    dg = sns.countplot(data=df, x=c_name)\n",
    "    plt.show()\n",
    "    \n",
    "c_name = \"IsBadBuy\"\n",
    "if(verbose):\n",
    "    df[c_name].unique()\n",
    "df[c_name] = df[c_name].astype(bool)\n",
    "if(verbose):\n",
    "    df[c_name].unique()\n",
    "    \n",
    "     \n",
    "for c_name in [\"MMRAcquisitionAuctionAveragePrice\",\n",
    "              \"MMRAcquisitionAuctionCleanPrice\",\n",
    "              \"MMRAcquisitionRetailAveragePrice\",\n",
    "              \"MMRAcquisitonRetailCleanPrice\",\n",
    "              \"MMRCurrentAuctionAveragePrice\",\n",
    "              \"MMRCurrentAuctionCleanPrice\",\n",
    "              \"MMRCurrentRetailAveragePrice\",\n",
    "              \"MMRCurrentRetailCleanPrice\",\n",
    "              \"MMRCurrentRetailRatio\",\n",
    "              \"VehBCost\"]:\n",
    "    df[c_name] = df[c_name].mask(df[c_name] == \"?\", 0)\n",
    "    df[c_name] = df[c_name].mask(df[c_name] == \"#VALUE!\", 0)\n",
    "    df[c_name] = pd.to_numeric(df[c_name])\n",
    "    df[c_name] = df[c_name].mask(df[c_name] == 1, 0)\n",
    "    \n",
    "c_name = \"WheelType\"\n",
    "df[c_name] = df[c_name].fillna(\"?\")"
   ]
  },
  {
   "cell_type": "markdown",
   "metadata": {},
   "source": [
    "#### 1.3 Can you identify any clear patterns by initial exploration of the data using histogram or box plot?\n",
    "The *VehYear* column, the year in which the car was made - does seems to have a influence on the *IsBadBuy* varible.  \n",
    "It is more likely that an older car is a *kick*."
   ]
  },
  {
   "cell_type": "code",
   "execution_count": 47,
   "metadata": {},
   "outputs": [
    {
     "data": {
      "image/png": "[encoded data removed]",
      "text/plain": [
       "<Figure size 432x288 with 1 Axes>"
      ]
     },
     "metadata": {
      "needs_background": "light"
     },
     "output_type": "display_data"
    }
   ],
   "source": [
    "if(verbose):\n",
    "    ax = sns.boxplot(x=target_value, y='VehYear', data=df)\n",
    "    plt.show()"
   ]
  },
  {
   "cell_type": "markdown",
   "metadata": {},
   "source": [
    "#### 1.4 What variables did you include in the analysis and what were their roles and measurement level set? Justify your choice.\n",
    "We decided to drop the following columns:\n",
    "- PurchaseID\n",
    "- PurchaseTimestamp\n",
    "- PurchasseData\n",
    "- WheelTypeID\n",
    "- PRIMEUNIT\n",
    "- AUCGUART\n",
    "- ForSale\n",
    "\n",
    "Identification columns is not interesting. Almost all cars are marked as for sale. *PRIMEUNIT* and *AUCGUART* is missing data in most of the data entries."
   ]
  },
  {
   "cell_type": "code",
   "execution_count": 48,
   "metadata": {},
   "outputs": [],
   "source": [
    "df.drop(['PurchaseID','PurchaseTimestamp','PurchaseDate','WheelTypeID','PRIMEUNIT','AUCGUART','ForSale'],axis=1,inplace=True)"
   ]
  },
  {
   "cell_type": "markdown",
   "metadata": {},
   "source": [
    "#### 1.5 What distribution scheme did you use? What data partitioning allocation did you set? Explain your selection.\n",
    "The distribution between good and bad buys was very skewed, which made our prediction models have a heavy tendency to predict most cars as being good buys. We decided to use undersampling to counter the skewness - so the distribution between good and bay buys were equal in our traning sets."
   ]
  },
  {
   "cell_type": "markdown",
   "metadata": {},
   "source": [
    "## Task 2 - Predictive Modeling Using Decision Trees"
   ]
  },
  {
   "cell_type": "code",
   "execution_count": 49,
   "metadata": {},
   "outputs": [
    {
     "name": "stderr",
     "output_type": "stream",
     "text": [
      "/anaconda3/lib/python3.7/site-packages/ipykernel_launcher.py:27: FutureWarning: Method .as_matrix will be removed in a future version. Use .values instead.\n"
     ]
    }
   ],
   "source": [
    "# prepare data for decision tree\n",
    "df_decision = pd.get_dummies(df)\n",
    "df_decision = df_decision.dropna()\n",
    "\n",
    "# target/input split\n",
    "y = df_decision[target_value]\n",
    "X = df_decision.drop([target_value],axis = 1)\n",
    "\n",
    "# setting random state\n",
    "rs = 10\n",
    "\n",
    "# undersampling \n",
    "badBuy_indices = df_decision[df_decision[target_value] == 0].index\n",
    "\n",
    "sample_size = sum(df_decision.IsBadBuy == 1)\n",
    "\n",
    "random_indices = np.random.choice(badBuy_indices, sample_size, replace=False)\n",
    "\n",
    "Non_badBuy_sample = df_decision.loc[random_indices]\n",
    "\n",
    "Badbuys = df_decision.loc[df_decision[target_value]==1]\n",
    "\n",
    "sample_data = Badbuys.append(Non_badBuy_sample,ignore_index=True)\n",
    "X = sample_data.drop([target_value],axis = 1)\n",
    "y = sample_data[target_value]\n",
    "\n",
    "X_mat = X.as_matrix()\n",
    "X_train, X_test, y_train, y_test = train_test_split(X_mat, y, test_size=0.3, stratify=y, random_state=rs)\n",
    "\n",
    "#save X_test for later use\n",
    "tree_X_test = X_test\n",
    "tree_y_test = y_test"
   ]
  },
  {
   "cell_type": "markdown",
   "metadata": {},
   "source": [
    "#### 2.1 Build a decision tree using the default setting. \n",
    "*(a) What is the classification accuracy on training and test datasets?*  \n",
    "Full print-out provided below. 77% on training, 66% on test.\n",
    "\n",
    "*(b) What is the size of tree (i.e. number of nodes)?*  \n",
    "Default settings gives a tree with 2743 nodes, tweaked has 53 nodes.\n",
    "\n",
    "*(c) How many leaves are in the tree that is selected based on the validation dataset?*  \n",
    "27 leaves in the tree with a total of 53 nodes.\n",
    "\n",
    "*(d) Which variable is used for the first split? What are the competing splits for this first split?*  \n",
    "Our tree first splits on *WheelType_?*, or in English words - weather the type of wheels on the car is known.\n",
    "Another close contender is *VehYear*, the year the vechicle was manufactured.\n",
    "\n",
    "*(e) What are the 5 important variables in building the tree?*  \n",
    "- WheelType (unknown, boolean value)\n",
    "- VehYear\n",
    "- MMRAcquisitionAuctionAveragePrice\n",
    "- VehBCost\n",
    "- VehOdo\n",
    "\n",
    "*(f) Report if you see any evidence of model overfitting.*  \n",
    "There is signs of overfitting for the default settings and on the tweaked tree.\n",
    "\n",
    "*(g) Did changing the default setting (i.e., only focus on changing the setting of the number of splits to create a node) help improving the model? Answer the above questions on the best performing tree.*  \n",
    "Changing **min_samples_leaf** had a negative effect on the results.  \n",
    "Changing **max_depth** helped us get better result on the test data (minimized overfitting)."
   ]
  },
  {
   "cell_type": "code",
   "execution_count": 50,
   "metadata": {},
   "outputs": [
    {
     "name": "stdout",
     "output_type": "stream",
     "text": [
      "DEFAULT SETTINGS:\n",
      "              precision    recall  f1-score   support\n",
      "\n",
      "       False       0.63      0.62      0.62      1590\n",
      "        True       0.63      0.63      0.63      1591\n",
      "\n",
      "   micro avg       0.63      0.63      0.63      3181\n",
      "   macro avg       0.63      0.63      0.63      3181\n",
      "weighted avg       0.63      0.63      0.63      3181\n",
      "\n",
      "Number of nodes: 2709\n",
      "\n",
      "TWEAKED SETTINGS:\n",
      "              precision    recall  f1-score   support\n",
      "\n",
      "       False       0.66      0.71      0.68      1590\n",
      "        True       0.68      0.63      0.66      1591\n",
      "\n",
      "   micro avg       0.67      0.67      0.67      3181\n",
      "   macro avg       0.67      0.67      0.67      3181\n",
      "weighted avg       0.67      0.67      0.67      3181\n",
      "\n",
      "Number of nodes: 55\n"
     ]
    }
   ],
   "source": [
    "model = DecisionTreeClassifier(random_state=rs)\n",
    "model.fit(X_train, y_train)\n",
    "y_pred = model.predict(X_test)\n",
    "if(verbose):\n",
    "    print(\"DEFAULT SETTINGS:\")\n",
    "    print(classification_report(y_test, y_pred))\n",
    "    print(\"Number of nodes: \" + str(model.tree_.node_count))\n",
    "\n",
    "model = DecisionTreeClassifier(max_depth=5,random_state=rs)\n",
    "model.fit(X_train, y_train)\n",
    "y_pred = model.predict(X_test)\n",
    "if(verbose):\n",
    "    print(\"\\nTWEAKED SETTINGS:\")\n",
    "    print(classification_report(y_test, y_pred))\n",
    "    print(\"Number of nodes: \" + str(model.tree_.node_count))"
   ]
  },
  {
   "cell_type": "markdown",
   "metadata": {},
   "source": [
    "#### 2.2 Build another decision tree tuned with GridSearchCV"
   ]
  },
  {
   "cell_type": "code",
   "execution_count": 51,
   "metadata": {},
   "outputs": [
    {
     "name": "stdout",
     "output_type": "stream",
     "text": [
      "Train accuracy: 0.69990567308988\n",
      "Test accuracy: 0.6736875196479095\n",
      "              precision    recall  f1-score   support\n",
      "\n",
      "       False       0.64      0.78      0.71      1590\n",
      "        True       0.72      0.57      0.63      1591\n",
      "\n",
      "   micro avg       0.67      0.67      0.67      3181\n",
      "   macro avg       0.68      0.67      0.67      3181\n",
      "weighted avg       0.68      0.67      0.67      3181\n",
      "\n"
     ]
    }
   ],
   "source": [
    "if(quick_mode):\n",
    "    print(\"Turn off quick mode to enable gridsearch.\")\n",
    "else:\n",
    "    params = {'criterion': ['gini', 'entropy'],\n",
    "          'max_depth': range(2, 10),\n",
    "          'min_samples_leaf': range(20, 60, 10)}\n",
    "\n",
    "    cv = GridSearchCV(param_grid=params, estimator=DecisionTreeClassifier(random_state=rs), cv=10)\n",
    "    cv.fit(X_train, y_train)\n",
    "    \n",
    "    if(verbose):\n",
    "        print(\"Train accuracy:\", cv.score(X_train, y_train))\n",
    "        print(\"Test accuracy:\", cv.score(X_test, y_test))\n",
    "\n",
    "    y_pred = cv.predict(X_test)\n",
    "    \n",
    "    # Use this decision tree model\n",
    "    model_dt = cv\n",
    "    dt_model = cv.best_estimator_\n",
    "    ypred_dt = model_dt.predict_proba(X_test)\n",
    "    report_dt = classification_report(y_test, y_pred)\n",
    "    \n",
    "    if(verbose):\n",
    "        print(report_dt)"
   ]
  },
  {
   "cell_type": "markdown",
   "metadata": {},
   "source": [
    "*(a) What is the classification accuracy on training and test datasets?*  \n",
    "The result is 71% on the training data and 66% on the test data. The full report is printed above.  \n",
    "\n",
    "*(b) What is the size of tree (i.e. number of nodes)? Is the size different from the maximal tree or the tree in the previous step? Why?*  \n",
    "It is way lower than the maximal tree - a maximal tree would not be very useful, it would be overfitting a lot. Also, our max_depth does not allow for the creation of a maximal tree. The previous tree contained 53 nodes and the tuned tree also contains 53 nodes.\n",
    "\n",
    "*(c) How many leaves are in the tree that is selected based on the validation data set?*  \n",
    "This tree contains 27 leaves.\n",
    "\n",
    "*(d) Which variable is used for the first split? What are the competing splits for this first split?*  \n",
    "Same as previous tree, the type of the wheel.\n",
    "\n",
    "*(e) What are the 5 important variables in building the tree?*\n",
    "- WheelType (unknown, boolean value)\n",
    "- VehYear\n",
    "- MMRAcquisitionAuctionAveragePrice\n",
    "- VehBCost\n",
    "- VehOdo\n",
    "\n",
    "*(f) Report if you see any evidence of model overfitting.*   \n",
    "There is a slight overfitting.\n",
    "\n",
    "*(g) What are the parameters used? Explain your choices.*  \n",
    "We tried to test both the *gini* and *entropy* way of measuring quality of the split.  \n",
    "*Max_depth* is varied to try to improve accuracy without overfitting the model and the *min_samples_leaf* to test if internal node splitting would result in a different and more accurate tree."
   ]
  },
  {
   "cell_type": "markdown",
   "metadata": {},
   "source": [
    "#### 2.3 What is the significant difference do you see between these two decision tree models?\n",
    "*How do they compare performance-wise? Explain why those changes may have happened.*  \n",
    "The performance change is insignificant. The two decision trees are almost the same.  \n",
    "This is probably caused by the most important configuration in this case being *max_depth* which we adjusted before running grid search to find parameters."
   ]
  },
  {
   "cell_type": "markdown",
   "metadata": {},
   "source": [
    "#### 2.4 From the better model, can you identify which cars could potential be *kicks*?\n",
    "Cars where the wheel type is known and from the MANHEIM auction are likely to be good buys. \n",
    "Cars where the wheel type is unknown, older then 2005 and a cost of less than 6075$ are likely to be bad buys."
   ]
  },
  {
   "cell_type": "markdown",
   "metadata": {},
   "source": [
    "## Task 3 - Predictive Modeling Using Regression"
   ]
  },
  {
   "cell_type": "code",
   "execution_count": 52,
   "metadata": {},
   "outputs": [
    {
     "name": "stdout",
     "output_type": "stream",
     "text": [
      "<class 'pandas.core.frame.DataFrame'>\n",
      "RangeIndex: 10602 entries, 0 to 10601\n",
      "Columns: 127 entries, VehYear to VNST_WV\n",
      "dtypes: bool(2), float64(11), int64(2), uint8(112)\n",
      "memory usage: 2.2 MB\n"
     ]
    },
    {
     "name": "stderr",
     "output_type": "stream",
     "text": [
      "/anaconda3/lib/python3.7/site-packages/ipykernel_launcher.py:7: FutureWarning: Method .as_matrix will be removed in a future version. Use .values instead.\n",
      "  import sys\n"
     ]
    }
   ],
   "source": [
    "sample_data.info()\n",
    "\n",
    "\n",
    "X = sample_data.drop([target_value],axis = 1)\n",
    "y = sample_data[target_value]\n",
    "\n",
    "X_mat = X.as_matrix()\n",
    "X_train, X_test, y_train, y_test = train_test_split(X_mat, y, test_size=0.3, stratify=y, random_state=rs)"
   ]
  },
  {
   "cell_type": "markdown",
   "metadata": {},
   "source": [
    "#### 3.1 In preparation for regression, is any imputation of missing values needed for this data set? List the variables that did.\n",
    "> 509 cars need *MMR___* data  \n",
    "> 44 cars have already been removed due to missing information (year)"
   ]
  },
  {
   "cell_type": "code",
   "execution_count": 53,
   "metadata": {},
   "outputs": [
    {
     "name": "stdout",
     "output_type": "stream",
     "text": [
      "\n",
      "The following columns still have missing values:\n"
     ]
    }
   ],
   "source": [
    "if(verbose):\n",
    "    print(\"\\nThe following columns still have missing values:\")\n",
    "nan_list = list()\n",
    "for c_name in list(sample_data):\n",
    "    if(sample_data[c_name].isnull().values.any()):\n",
    "        nan_list.append(c_name)\n",
    "        if(verbose):\n",
    "            print(c_name)\n",
    "\n",
    "sample_data = sample_data.dropna(subset=nan_list) "
   ]
  },
  {
   "cell_type": "markdown",
   "metadata": {},
   "source": [
    "#### 3.2 Apply transformation method(s) to the variable(s) that need it. List the variables that needed it"
   ]
  },
  {
   "cell_type": "code",
   "execution_count": 54,
   "metadata": {},
   "outputs": [
    {
     "name": "stderr",
     "output_type": "stream",
     "text": [
      "/anaconda3/lib/python3.7/site-packages/scipy/stats/stats.py:1713: FutureWarning: Using a non-tuple sequence for multidimensional indexing is deprecated; use `arr[tuple(seq)]` instead of `arr[seq]`. In the future this will be interpreted as an array index, `arr[np.array(seq)]`, which will result either in an error or a different result.\n",
      "  return np.add.reduce(sorted[indexer] * weights, axis=axis) / sumval\n"
     ]
    },
    {
     "data": {
      "image/png": "[encoded data removed]",
      "text/plain": [
       "<Figure size 720x720 with 12 Axes>"
      ]
     },
     "metadata": {
      "needs_background": "light"
     },
     "output_type": "display_data"
    }
   ],
   "source": [
    "def plot_skewed_columns(df):\n",
    "    # setting up subplots for easier visualisation\n",
    "    f, axes = plt.subplots(4,3, figsize=(10,10), sharex=False)\n",
    "\n",
    "    sns.distplot(df['MMRAcquisitionAuctionAveragePrice'].dropna(), hist=False, ax=axes[0,0])\n",
    "    sns.distplot(df['MMRAcquisitionAuctionCleanPrice'].dropna(), hist=False, ax=axes[0,1])\n",
    "    sns.distplot(df['MMRAcquisitionRetailAveragePrice'].dropna(), hist=False, ax=axes[0,2])\n",
    "    sns.distplot(df['MMRAcquisitonRetailCleanPrice'].dropna(), hist=False, ax=axes[1,0])\n",
    "    sns.distplot(df['MMRCurrentAuctionAveragePrice'].dropna(), hist=False, ax=axes[1,1])\n",
    "    sns.distplot(df['MMRCurrentAuctionCleanPrice'].dropna(), hist=False, ax=axes[1,2])\n",
    "    sns.distplot(df['MMRCurrentRetailAveragePrice'].dropna(), hist=False, ax=axes[2,0])\n",
    "    sns.distplot(df['MMRCurrentRetailCleanPrice'].dropna(), hist=False, ax=axes[2,1])\n",
    "    sns.distplot(df['MMRCurrentRetailRatio'].dropna(), hist=False, ax=axes[2,2])\n",
    "    sns.distplot(df['VehBCost'].dropna(), hist=False, ax=axes[3,0])\n",
    "    plt.show()\n",
    "    \n",
    "if(verbose):\n",
    "    plot_skewed_columns(df)"
   ]
  },
  {
   "cell_type": "code",
   "execution_count": 55,
   "metadata": {},
   "outputs": [
    {
     "data": {
      "image/png": "[encoded data removed]",
      "text/plain": [
       "<Figure size 720x720 with 12 Axes>"
      ]
     },
     "metadata": {
      "needs_background": "light"
     },
     "output_type": "display_data"
    }
   ],
   "source": [
    "# list columns to be transformed\n",
    "columns_to_transform = ['MMRAcquisitionAuctionAveragePrice', 'MMRAcquisitionAuctionCleanPrice', 'MMRAcquisitionRetailAveragePrice',\n",
    "                        'MMRAcquisitonRetailCleanPrice','MMRCurrentAuctionAveragePrice', 'MMRCurrentAuctionCleanPrice',\n",
    "                        'MMRCurrentRetailAveragePrice', 'MMRCurrentRetailCleanPrice','MMRCurrentRetailRatio','VehBCost']\n",
    "\n",
    "# copy the dataframe\n",
    "df_log = sample_data.copy()\n",
    "\n",
    "# transform the columns with np.log\n",
    "for col in columns_to_transform:\n",
    "    df_log[col] = df_log[col].apply(lambda x: x+1)\n",
    "    df_log[col] = df_log[col].apply(np.log)\n",
    "\n",
    "# plot them again to show the distribution\n",
    "if(verbose):\n",
    "    plot_skewed_columns(df_log)"
   ]
  },
  {
   "cell_type": "code",
   "execution_count": 56,
   "metadata": {},
   "outputs": [
    {
     "name": "stderr",
     "output_type": "stream",
     "text": [
      "/anaconda3/lib/python3.7/site-packages/ipykernel_launcher.py:4: FutureWarning: Method .as_matrix will be removed in a future version. Use .values instead.\n",
      "  after removing the cwd from sys.path.\n",
      "/anaconda3/lib/python3.7/site-packages/sklearn/utils/validation.py:595: DataConversionWarning: Data with input dtype object was converted to float64 by StandardScaler.\n",
      "  warnings.warn(msg, DataConversionWarning)\n",
      "/anaconda3/lib/python3.7/site-packages/sklearn/utils/validation.py:595: DataConversionWarning: Data with input dtype object was converted to float64 by StandardScaler.\n",
      "  warnings.warn(msg, DataConversionWarning)\n",
      "/anaconda3/lib/python3.7/site-packages/sklearn/utils/validation.py:595: DataConversionWarning: Data with input dtype object was converted to float64 by StandardScaler.\n",
      "  warnings.warn(msg, DataConversionWarning)\n"
     ]
    }
   ],
   "source": [
    "y_log = df_log[target_value]\n",
    "X_log = df_log.drop([target_value], axis=1)\n",
    "\n",
    "X_mat_log = X_log.as_matrix()\n",
    "X_train_log, X_test_log, y_train_log, y_test_log = train_test_split(X_mat_log, y_log, test_size=0.3, stratify=y_log, \n",
    "                                                                    random_state=rs)\n",
    "\n",
    "# standardise them\n",
    "scaler_log = StandardScaler()\n",
    "X_train_log = scaler_log.fit_transform(X_train_log, y_train_log)\n",
    "X_test_log = scaler_log.transform(X_test_log)"
   ]
  },
  {
   "cell_type": "markdown",
   "metadata": {},
   "source": [
    "#### 3.3 Build a regression model using the default regression method with all inputs."
   ]
  },
  {
   "cell_type": "code",
   "execution_count": 57,
   "metadata": {},
   "outputs": [
    {
     "name": "stderr",
     "output_type": "stream",
     "text": [
      "/anaconda3/lib/python3.7/site-packages/sklearn/linear_model/logistic.py:433: FutureWarning: Default solver will be changed to 'lbfgs' in 0.22. Specify a solver to silence this warning.\n",
      "  FutureWarning)\n"
     ]
    },
    {
     "name": "stdout",
     "output_type": "stream",
     "text": [
      "Train accuracy: 0.6990971567174236\n",
      "Test accuracy: 0.6740018861993083\n",
      "              precision    recall  f1-score   support\n",
      "\n",
      "       False       0.65      0.75      0.70      1590\n",
      "        True       0.71      0.60      0.65      1591\n",
      "\n",
      "   micro avg       0.67      0.67      0.67      3181\n",
      "   macro avg       0.68      0.67      0.67      3181\n",
      "weighted avg       0.68      0.67      0.67      3181\n",
      "\n"
     ]
    }
   ],
   "source": [
    "# fit it to training data\n",
    "model = LogisticRegression(random_state=rs)\n",
    "model.fit(X_train_log, y_train_log)\n",
    "\n",
    "# classification report on test data\n",
    "print(\"Train accuracy:\", model.score(X_train_log, y_train_log))\n",
    "print(\"Test accuracy:\", model.score(X_test_log, y_test_log))\n",
    "\n",
    "\n",
    "y_pred = model.predict(X_test_log)\n",
    "# Use this regression model\n",
    "model_reg = model\n",
    "ypred_reg = model_reg.predict_proba(X_test)\n",
    "report_reg = classification_report(y_test, y_pred)\n",
    "\n",
    "if(verbose):\n",
    "    print(report_reg)"
   ]
  },
  {
   "cell_type": "markdown",
   "metadata": {},
   "source": [
    "#### 3.3 ... Once you done it, build another one and tune it using GridSearchCV"
   ]
  },
  {
   "cell_type": "code",
   "execution_count": 58,
   "metadata": {},
   "outputs": [
    {
     "name": "stderr",
     "output_type": "stream",
     "text": [
      "/anaconda3/lib/python3.7/site-packages/sklearn/linear_model/logistic.py:433: FutureWarning: Default solver will be changed to 'lbfgs' in 0.22. Specify a solver to silence this warning.\n",
      "  FutureWarning)\n"
     ]
    },
    {
     "name": "stdout",
     "output_type": "stream",
     "text": [
      "Train accuracy: 0.7007141894623367\n",
      "Test accuracy: 0.6746306193021062\n",
      "              precision    recall  f1-score   support\n",
      "\n",
      "       False       0.65      0.75      0.70      1590\n",
      "        True       0.71      0.60      0.65      1591\n",
      "\n",
      "   micro avg       0.67      0.67      0.67      3181\n",
      "   macro avg       0.68      0.67      0.67      3181\n",
      "weighted avg       0.68      0.67      0.67      3181\n",
      "\n",
      "{'C': 0.1}\n"
     ]
    }
   ],
   "source": [
    "# grid search CV\n",
    "params = {'C': [pow(10, x) for x in range(-6, 4)]}\n",
    "\n",
    "cv = GridSearchCV(param_grid=params, estimator=LogisticRegression(random_state=rs), cv=10, n_jobs=-1)\n",
    "cv.fit(X_train_log, y_train_log)\n",
    "\n",
    "# test the best model\n",
    "print(\"Train accuracy:\", cv.score(X_train_log, y_train_log))\n",
    "print(\"Test accuracy:\", cv.score(X_test_log, y_test_log))\n",
    "\n",
    "y_pred = cv.predict(X_test_log)\n",
    "print(classification_report(y_test_log, y_pred))\n",
    "\n",
    "print(cv.best_params_)"
   ]
  },
  {
   "cell_type": "markdown",
   "metadata": {},
   "source": [
    "*(h) Name the regression function used.*  \n",
    "Logistic regression was used to build the model.\n",
    "\n",
    "*(i) How much was the difference in performance of two models build, default and optimal?*  \n",
    "We can tell from the result above. The GridSearchCV did not make any change to the result, and the parameter C is 1.\n",
    "\n",
    "*(j) Show the set parameters for the best model. What are the parameters used?\n",
    "Explain your decision. What are the optimal parameters?*  \n",
    "The set parameters is based on GridSearchCV which tries different parameters from a typical range of values and pick the optimal ones. In sklearn logistic regression, regularisation is implemented in the hyperparameter C, which denotes the inverse of regularisation strength. Smaller C means stronger regularisation. The C for our best model is 1.\n",
    "\n",
    "*(k) Report which variables are included in the regression model.*  \n",
    "As we only droped 'PurchaseID','PurchaseTimestamp','PurchaseDate','WheelTypeID','PRIMEUNIT','AUCGUART','ForSale', all remained variables are all prossessed in the regression model.\n"
   ]
  },
  {
   "cell_type": "code",
   "execution_count": 59,
   "metadata": {},
   "outputs": [
    {
     "name": "stdout",
     "output_type": "stream",
     "text": [
      "<class 'pandas.core.frame.DataFrame'>\n",
      "Int64Index: 10602 entries, 0 to 10601\n",
      "Columns: 127 entries, VehYear to VNST_WV\n",
      "dtypes: bool(2), float64(11), int64(2), uint8(112)\n",
      "memory usage: 2.3 MB\n"
     ]
    }
   ],
   "source": [
    "sample_data.info()"
   ]
  },
  {
   "cell_type": "code",
   "execution_count": 60,
   "metadata": {},
   "outputs": [
    {
     "name": "stdout",
     "output_type": "stream",
     "text": [
      "MMRAcquisitionAuctionAveragePrice : -1.425119685605063\n",
      "WheelType_? : 1.0275451617396634\n",
      "MMRAcquisitionRetailAveragePrice : 0.8001495003066211\n",
      "MMRAcquisitonRetailCleanPrice : 0.4275444050849599\n",
      "MMRCurrentAuctionCleanPrice : 0.38369703994962157\n"
     ]
    }
   ],
   "source": [
    "# grab feature importances from the model and feature name from the original X\n",
    "coef = model.coef_[0]\n",
    "feature_names = X_log.columns\n",
    "\n",
    "# sort them out in descending order\n",
    "indices = np.argsort(np.absolute(coef))\n",
    "indices = np.flip(indices, axis=0)\n",
    "\n",
    "# limit to 5 features, you can leave this out to print out everything\n",
    "indices = indices[:5]\n",
    "\n",
    "for i in indices:\n",
    "    print(feature_names[i], ':', coef[i])"
   ]
  },
  {
   "cell_type": "markdown",
   "metadata": {},
   "source": [
    "*(l) Report the top-5 important variables (in the order) in the model.*  \n",
    "- MMRAcquisitionAuctionAveragePrice \n",
    "- MMRAcquisitionRetailAveragePrice  \n",
    "- WheelType_? (it means unknown or not)\n",
    "- MMRCurrentAuctionAveragePrice   \n",
    "- MMRCurrentRetailCleanPrice   \n",
    "\n",
    "*(m) What is classification accuracy on training and test datasets?*  "
   ]
  },
  {
   "cell_type": "code",
   "execution_count": 61,
   "metadata": {},
   "outputs": [
    {
     "name": "stdout",
     "output_type": "stream",
     "text": [
      "Train accuracy: 0.6990971567174236\n",
      "Test accuracy: 0.6740018861993083\n",
      "              precision    recall  f1-score   support\n",
      "\n",
      "       False       0.65      0.75      0.70      1590\n",
      "        True       0.71      0.60      0.65      1591\n",
      "\n",
      "   micro avg       0.67      0.67      0.67      3181\n",
      "   macro avg       0.68      0.67      0.67      3181\n",
      "weighted avg       0.68      0.67      0.67      3181\n",
      "\n"
     ]
    }
   ],
   "source": [
    "print(\"Train accuracy:\", model.score(X_train_log, y_train_log))\n",
    "print(\"Test accuracy:\", model.score(X_test_log, y_test_log))\n",
    "print(classification_report(y_test_log, y_pred))"
   ]
  },
  {
   "cell_type": "markdown",
   "metadata": {},
   "source": [
    "*(n) Report any sign of overfitting*\n",
    "\n",
    "We can see the test accuracy is lower than train accuracy due to a slight overfitting.\n",
    "\n",
    "#### 3.4 Build another regression model using the subset of inputs selected by RFE and selection by model method. Answer the followings:"
   ]
  },
  {
   "cell_type": "code",
   "execution_count": 62,
   "metadata": {},
   "outputs": [
    {
     "name": "stdout",
     "output_type": "stream",
     "text": [
      "Train accuracy: 0.6993666621749091\n",
      "Test accuracy: 0.6718013203395159\n",
      "              precision    recall  f1-score   support\n",
      "\n",
      "       False       0.65      0.76      0.70      1590\n",
      "        True       0.71      0.59      0.64      1591\n",
      "\n",
      "   micro avg       0.67      0.67      0.67      3181\n",
      "   macro avg       0.68      0.67      0.67      3181\n",
      "weighted avg       0.68      0.67      0.67      3181\n",
      "\n",
      "{'C': 0.01}\n"
     ]
    },
    {
     "name": "stderr",
     "output_type": "stream",
     "text": [
      "/anaconda3/lib/python3.7/site-packages/sklearn/linear_model/logistic.py:433: FutureWarning: Default solver will be changed to 'lbfgs' in 0.22. Specify a solver to silence this warning.\n",
      "  FutureWarning)\n"
     ]
    }
   ],
   "source": [
    "from sklearn.feature_selection import RFECV\n",
    "\n",
    "rfe = RFECV(estimator = LogisticRegression(random_state=rs,solver = 'liblinear'), cv=10)\n",
    "rfe.fit(X_train_log, y_train_log) # run the RFECV\n",
    "\n",
    "\n",
    "\n",
    "X_train_sel = rfe.transform(X_train_log)\n",
    "X_test_sel = rfe.transform(X_test_log)\n",
    "\n",
    "#save X_test_sel for later use\n",
    "reg_X_test = X_test_sel\n",
    "reg_y_test = y_test_log\n",
    "\n",
    "params = {'C': [pow(10, x) for x in range(-6, 4)]}\n",
    "\n",
    "cv = GridSearchCV(param_grid=params, estimator=LogisticRegression(random_state=rs), cv=10, n_jobs=-1)\n",
    "cv.fit(X_train_sel, y_train_log)\n",
    "log_reg_model = cv.best_estimator_\n",
    "\n",
    "# test the best model\n",
    "print(\"Train accuracy:\", cv.score(X_train_sel, y_train_log))\n",
    "print(\"Test accuracy:\", cv.score(X_test_sel, y_test_log))\n",
    "\n",
    "y_pred = cv.predict(X_test_sel)\n",
    "print(classification_report(y_test_log, y_pred))\n",
    "\n",
    "# print parameters of the best model\n",
    "print(cv.best_params_)"
   ]
  },
  {
   "cell_type": "code",
   "execution_count": 63,
   "metadata": {},
   "outputs": [
    {
     "name": "stdout",
     "output_type": "stream",
     "text": [
      "Original feature set 126\n",
      "Number of features after elimination 85\n"
     ]
    }
   ],
   "source": [
    "print(\"Original feature set\", X_train_log.shape[1])\n",
    "print(\"Number of features after elimination\", rfe.n_features_)"
   ]
  },
  {
   "cell_type": "markdown",
   "metadata": {},
   "source": [
    "*(a) Report which variables are included in the regression model.* \n",
    "There are 69 variables are selected by RFE to process in the regression model.\n",
    "\n",
    "*(b) Report the top-5 important variables (in the order) in the model.*  \n",
    "WheelType_?\n",
    "MMRAcquisitionAuctionAveragePrice\n",
    "MMRCurrentAuctionAveragePrice\n",
    "MMRAcquisitionRetailAveragePrice\n",
    "MMRCurrentRetailCleanPrice\n",
    "the top-5 impoortant variables remain the same as only non-improtant variables are affected by RFE.\n",
    "\n",
    "*(c). What are the parameters used? Explain your choices. What are the optimal parameters? Which regression function is being used?*  \n",
    "Parameter C is used, which denotes the inverse of regularisation strength. cv is given as 10. Other parameters are all default values. \n",
    "\n",
    "*(d). Report any sign of overfitting.*  \n",
    "Train accuracy: 0.616763239455599 Test accuracy: 0.6101854762653254 the Train accuracy is very close to the Test accuracy, it indicates there is no obivious overfitting.\n",
    "\n",
    "*(e). What is classification accuracy on training and test datasets?*  \n",
    "Train accuracy: 0.6939765530251988\n",
    "Test accuracy: 0.6928638792832442\n",
    "\n",
    "*(f). Did it improve/worsen the performance? Explain why those changes may have happened.*  \n",
    "The performance is almost the same. Test accuracy is from 0.6828041496384785 to 0.6831185161898774. The non-important variables do not make much contribution to the result, so it does not make much difference whether we elinimate them or not."
   ]
  },
  {
   "cell_type": "markdown",
   "metadata": {},
   "source": [
    "#### 3.5 Using the best regression model, which cars could potential be “kicks”? Can you provide some descriptive summary of those cars?"
   ]
  },
  {
   "cell_type": "markdown",
   "metadata": {},
   "source": [
    "We can interpret the regression model from its importance list. If a car has unknown WheelType, or the AuctionAveragePrice is quite low,it has higher possibility to be a kick. MMRAcquisitionRetailAveragePrice and MMRCurrentAuctionAveragePrice have postive influence on cars' reliability."
   ]
  },
  {
   "cell_type": "markdown",
   "metadata": {},
   "source": [
    "## Task 4 - Predictive Modeling Using Neural Networks"
   ]
  },
  {
   "cell_type": "code",
   "execution_count": 64,
   "metadata": {},
   "outputs": [
    {
     "name": "stderr",
     "output_type": "stream",
     "text": [
      "/anaconda3/lib/python3.7/site-packages/IPython/core/interactiveshell.py:3020: DtypeWarning: Columns (27) have mixed types. Specify dtype option on import or set low_memory=False.\n",
      "  interactivity=interactivity, compiler=compiler, result=result)\n"
     ]
    }
   ],
   "source": [
    "# data prep\n",
    "\n",
    "df = pd.read_csv('data.csv')\n",
    "\n",
    "df.drop(['PurchaseID','PurchaseTimestamp',\n",
    "        'PurchaseDate','PRIMEUNIT','AUCGUART','ForSale','Color',\n",
    "        'WheelType','Nationality','TopThreeAmericanName','WarrantyCost'],axis=1,inplace=True)\n",
    "\n",
    "c_name = \"VehYear\"\n",
    "df[c_name] = df[c_name].fillna(0).astype(int)\n",
    "df = df[df[c_name] != 0]\n",
    "    \n",
    "c_name = \"Transmission\"\n",
    "df[c_name] = df[c_name].mask(df[c_name] == \"Manual\", \"MANUAL\")\n",
    "df[c_name] = df[c_name].mask(df[c_name] == \"?\", \"AUTO\")\n",
    "    \n",
    "c_name = \"WheelTypeID\"\n",
    "df[c_name] = df[c_name].mask(df[c_name] == \"0\", \"?\")\n",
    "df[c_name] = df[c_name].fillna(\"?\")\n",
    "\n",
    "c_name = \"VehBCost\"\n",
    "df[c_name] = df[c_name].mask(df[c_name] == \"?\", \"0\")\n",
    "df[c_name] = pd.to_numeric(df[c_name])\n",
    "df[c_name] = df[c_name].mask(df[c_name] < 0, 0)\n",
    "\n",
    "c_name = \"IsOnlineSale\"\n",
    "df[c_name] = np.where(df[c_name] == \"0\", False, True)\n",
    "    \n",
    "c_name = \"IsBadBuy\"\n",
    "df[c_name] = df[c_name].astype(bool)\n",
    "    \n",
    "collection = [\"MMRAcquisitionAuctionAveragePrice\",\n",
    "              \"MMRAcquisitionAuctionCleanPrice\",\n",
    "              \"MMRAcquisitionRetailAveragePrice\",\n",
    "              \"MMRAcquisitonRetailCleanPrice\",\n",
    "              \"MMRCurrentAuctionAveragePrice\",\n",
    "              \"MMRCurrentAuctionCleanPrice\",\n",
    "              \"MMRCurrentRetailAveragePrice\",\n",
    "              \"MMRCurrentRetailCleanPrice\",\"MMRCurrentRetailRatio\"]\n",
    "\n",
    "for c_name in collection:\n",
    "    df[c_name] = df[c_name].mask(df[c_name] == \"?\", 0)\n",
    "    df[c_name] = df[c_name].mask(df[c_name] == \"#VALUE!\", 0)\n",
    "    df[c_name] = pd.to_numeric(df[c_name])\n",
    "    df[c_name] = df[c_name].mask(df[c_name] == 1, 0)"
   ]
  },
  {
   "cell_type": "code",
   "execution_count": 65,
   "metadata": {},
   "outputs": [
    {
     "name": "stderr",
     "output_type": "stream",
     "text": [
      "/anaconda3/lib/python3.7/site-packages/ipykernel_launcher.py:19: FutureWarning: Method .as_matrix will be removed in a future version. Use .values instead.\n",
      "/anaconda3/lib/python3.7/site-packages/ipykernel_launcher.py:26: FutureWarning: Method .as_matrix will be removed in a future version. Use .values instead.\n",
      "/anaconda3/lib/python3.7/site-packages/sklearn/utils/validation.py:595: DataConversionWarning: Data with input dtype object was converted to float64 by StandardScaler.\n",
      "  warnings.warn(msg, DataConversionWarning)\n",
      "/anaconda3/lib/python3.7/site-packages/sklearn/utils/validation.py:595: DataConversionWarning: Data with input dtype object was converted to float64 by StandardScaler.\n",
      "  warnings.warn(msg, DataConversionWarning)\n",
      "/anaconda3/lib/python3.7/site-packages/sklearn/utils/validation.py:595: DataConversionWarning: Data with input dtype object was converted to float64 by StandardScaler.\n",
      "  warnings.warn(msg, DataConversionWarning)\n"
     ]
    }
   ],
   "source": [
    "df_reg = pd.get_dummies(df)\n",
    "df_reg = df_reg.dropna()\n",
    "\n",
    "# undersampling \n",
    "badBuy_indices = df_reg[df_reg[target_value] == 0].index\n",
    "\n",
    "sample_size = sum(df_reg.IsBadBuy == 1)\n",
    "\n",
    "random_indices = np.random.choice(badBuy_indices, sample_size, replace=False)\n",
    "\n",
    "Non_badBuy_sample = df_reg.loc[random_indices]\n",
    "\n",
    "Badbuys = df_reg.loc[df_reg[target_value]==1]\n",
    "\n",
    "sample_data = Badbuys.append(Non_badBuy_sample,ignore_index=True)\n",
    "X = sample_data.drop([target_value],axis = 1)\n",
    "y = sample_data[target_value]\n",
    "\n",
    "X_mat = X.as_matrix()\n",
    "X_train, X_test, y_train, y_test = train_test_split(X_mat, y, test_size=0.3, stratify=y, random_state=rs)\n",
    "\n",
    "# train test split\n",
    "y = sample_data['IsBadBuy']\n",
    "X = sample_data.drop(['IsBadBuy'], axis=1)\n",
    "\n",
    "X_mat = X.as_matrix()\n",
    "X_train, X_test, y_train, y_test = train_test_split(X_mat, y, test_size=0.3, stratify=y, random_state=rs)\n",
    "\n",
    "scaler = StandardScaler()\n",
    "X_train = scaler.fit_transform(X_train, y_train)\n",
    "X_test = scaler.transform(X_test)"
   ]
  },
  {
   "cell_type": "code",
   "execution_count": 66,
   "metadata": {},
   "outputs": [
    {
     "name": "stdout",
     "output_type": "stream",
     "text": [
      "Train accuracy: 0.9027085298477294\n",
      "Test accuracy: 0.6541967934611758\n",
      "              precision    recall  f1-score   support\n",
      "\n",
      "       False       0.65      0.66      0.66      1590\n",
      "        True       0.66      0.64      0.65      1591\n",
      "\n",
      "   micro avg       0.65      0.65      0.65      3181\n",
      "   macro avg       0.65      0.65      0.65      3181\n",
      "weighted avg       0.65      0.65      0.65      3181\n",
      "\n",
      "MLPClassifier(activation='relu', alpha=0.0001, batch_size='auto', beta_1=0.9,\n",
      "       beta_2=0.999, early_stopping=False, epsilon=1e-08,\n",
      "       hidden_layer_sizes=(100,), learning_rate='constant',\n",
      "       learning_rate_init=0.001, max_iter=200, momentum=0.9,\n",
      "       n_iter_no_change=10, nesterovs_momentum=True, power_t=0.5,\n",
      "       random_state=10, shuffle=True, solver='adam', tol=0.0001,\n",
      "       validation_fraction=0.1, verbose=False, warm_start=False)\n"
     ]
    },
    {
     "name": "stderr",
     "output_type": "stream",
     "text": [
      "/anaconda3/lib/python3.7/site-packages/sklearn/neural_network/multilayer_perceptron.py:562: ConvergenceWarning: Stochastic Optimizer: Maximum iterations (200) reached and the optimization hasn't converged yet.\n",
      "  % self.max_iter, ConvergenceWarning)\n"
     ]
    }
   ],
   "source": [
    "# default neural network model\n",
    "from sklearn.neural_network import MLPClassifier\n",
    "\n",
    "model = MLPClassifier(random_state=rs)\n",
    "model.fit(X_train, y_train)\n",
    "\n",
    "print(\"Train accuracy:\", model.score(X_train, y_train))\n",
    "print(\"Test accuracy:\", model.score(X_test, y_test))\n",
    "\n",
    "y_pred = model.predict(X_test)\n",
    "print(classification_report(y_test, y_pred))\n",
    "\n",
    "print(model)"
   ]
  },
  {
   "cell_type": "markdown",
   "metadata": {},
   "source": [
    "*a. What is the network architecture?*  \n",
    "The hidden layer sizes is 100.\n",
    "\n",
    "*b. How many iterations are needed to train this network?*  \n",
    "More than 200 as it warned max iterations reached.\n",
    "\n",
    "*c. Do you see any sign of over-fitting?*  \n",
    "Yes, as the train accuracy is much higher than test accuracy.\n",
    "\n",
    "*d. Did the training process converge and resulted in the best model?*  \n",
    "No, the training process did not converge and it is not the best model.\n",
    "\n",
    "*e. What is classification accuracy on training and test datasets?*  \n",
    "Train accuracy: 0.8974531734267619\n",
    "Test accuracy: 0.6441370638164099"
   ]
  },
  {
   "cell_type": "code",
   "execution_count": 67,
   "metadata": {},
   "outputs": [
    {
     "name": "stdout",
     "output_type": "stream",
     "text": [
      "(7421, 96)\n"
     ]
    }
   ],
   "source": [
    "# See how many input features we have by printing out the train shape.\n",
    "print(X_train.shape)"
   ]
  },
  {
   "cell_type": "code",
   "execution_count": 68,
   "metadata": {},
   "outputs": [
    {
     "name": "stdout",
     "output_type": "stream",
     "text": [
      "Train accuracy: 0.7272604770246598\n",
      "Test accuracy: 0.6768311851618988\n",
      "              precision    recall  f1-score   support\n",
      "\n",
      "       False       0.66      0.74      0.70      1590\n",
      "        True       0.70      0.61      0.65      1591\n",
      "\n",
      "   micro avg       0.68      0.68      0.68      3181\n",
      "   macro avg       0.68      0.68      0.68      3181\n",
      "weighted avg       0.68      0.68      0.68      3181\n",
      "\n",
      "{'hidden_layer_sizes': (5,)}\n"
     ]
    },
    {
     "name": "stderr",
     "output_type": "stream",
     "text": [
      "/anaconda3/lib/python3.7/site-packages/sklearn/neural_network/multilayer_perceptron.py:562: ConvergenceWarning: Stochastic Optimizer: Maximum iterations (200) reached and the optimization hasn't converged yet.\n",
      "  % self.max_iter, ConvergenceWarning)\n"
     ]
    }
   ],
   "source": [
    "# With 96 features, we will start tuning with one hidden layer of 5 to 96 neurons, increment of 15. \n",
    "params = {'hidden_layer_sizes': [(x,) for x in range(5, 96, 15)]}\n",
    "\n",
    "cv = GridSearchCV(param_grid=params, estimator=MLPClassifier(random_state=rs), cv=10, n_jobs=-1)\n",
    "cv.fit(X_train, y_train)\n",
    "\n",
    "print(\"Train accuracy:\", cv.score(X_train, y_train))\n",
    "print(\"Test accuracy:\", cv.score(X_test, y_test))\n",
    "\n",
    "y_pred = cv.predict(X_test)\n",
    "print(classification_report(y_test, y_pred))\n",
    "\n",
    "print(cv.best_params_)"
   ]
  },
  {
   "cell_type": "code",
   "execution_count": 69,
   "metadata": {},
   "outputs": [
    {
     "name": "stdout",
     "output_type": "stream",
     "text": [
      "Train accuracy: 0.7272604770246598\n",
      "Test accuracy: 0.6768311851618988\n",
      "              precision    recall  f1-score   support\n",
      "\n",
      "       False       0.66      0.74      0.70      1590\n",
      "        True       0.70      0.61      0.65      1591\n",
      "\n",
      "   micro avg       0.68      0.68      0.68      3181\n",
      "   macro avg       0.68      0.68      0.68      3181\n",
      "weighted avg       0.68      0.68      0.68      3181\n",
      "\n",
      "{'hidden_layer_sizes': (5,)}\n"
     ]
    },
    {
     "name": "stderr",
     "output_type": "stream",
     "text": [
      "/anaconda3/lib/python3.7/site-packages/sklearn/neural_network/multilayer_perceptron.py:562: ConvergenceWarning: Stochastic Optimizer: Maximum iterations (200) reached and the optimization hasn't converged yet.\n",
      "  % self.max_iter, ConvergenceWarning)\n"
     ]
    }
   ],
   "source": [
    "\n",
    "# new parameters\n",
    "params = {'hidden_layer_sizes': [(3,), (5,), (7,), (9,)]}\n",
    "\n",
    "cv = GridSearchCV(param_grid=params, estimator=MLPClassifier(random_state=rs), cv=10, n_jobs=-1)\n",
    "cv.fit(X_train, y_train)\n",
    "\n",
    "print(\"Train accuracy:\", cv.score(X_train, y_train))\n",
    "print(\"Test accuracy:\", cv.score(X_test, y_test))\n",
    "\n",
    "y_pred = cv.predict(X_test)\n",
    "print(classification_report(y_test, y_pred))\n",
    "\n",
    "print(cv.best_params_)"
   ]
  },
  {
   "cell_type": "code",
   "execution_count": 70,
   "metadata": {},
   "outputs": [
    {
     "name": "stdout",
     "output_type": "stream",
     "text": [
      "Train accuracy: 0.7264519606522032\n",
      "Test accuracy: 0.6771455517132977\n",
      "              precision    recall  f1-score   support\n",
      "\n",
      "       False       0.66      0.74      0.70      1590\n",
      "        True       0.70      0.61      0.66      1591\n",
      "\n",
      "   micro avg       0.68      0.68      0.68      3181\n",
      "   macro avg       0.68      0.68      0.68      3181\n",
      "weighted avg       0.68      0.68      0.68      3181\n",
      "\n",
      "{'alpha': 1e-05, 'hidden_layer_sizes': (5,)}\n"
     ]
    },
    {
     "name": "stderr",
     "output_type": "stream",
     "text": [
      "/anaconda3/lib/python3.7/site-packages/sklearn/neural_network/multilayer_perceptron.py:562: ConvergenceWarning: Stochastic Optimizer: Maximum iterations (200) reached and the optimization hasn't converged yet.\n",
      "  % self.max_iter, ConvergenceWarning)\n"
     ]
    }
   ],
   "source": [
    "params = {'hidden_layer_sizes': [(3,), (5,), (7,), (9,)], 'alpha': [0.01,0.001, 0.0001, 0.00001]}\n",
    "\n",
    "cv = GridSearchCV(param_grid=params, estimator=MLPClassifier(random_state=rs), cv=10, n_jobs=-1)\n",
    "cv.fit(X_train, y_train)\n",
    "\n",
    "print(\"Train accuracy:\", cv.score(X_train, y_train))\n",
    "print(\"Test accuracy:\", cv.score(X_test, y_test))\n",
    "\n",
    "y_pred = cv.predict(X_test)\n",
    "print(classification_report(y_test, y_pred))\n",
    "\n",
    "print(cv.best_params_)"
   ]
  },
  {
   "cell_type": "markdown",
   "metadata": {},
   "source": [
    "*(a) What is the network architecture?*  \n",
    "The hidden layer sizes is 5 on alpha 0.001.\n",
    "\n",
    "*(b) How many iterations are needed to train this network?*  \n",
    "The training process converged on default max iterations of 200, thus it is lower than 200.\n",
    "\n",
    "*(c) Do you see any sign of over-fitting?*  \n",
    "Yes, as the train accuracy is a little higher than test accuracy.\n",
    "\n",
    "*(d) Did the training process converge and resulted in the best model?*  \n",
    "Yes, the training process converge and it is the best model.\n",
    "\n",
    "*(e) What is classification accuracy on training and test datasets?*  \n",
    "Train accuracy: 0.7253739388222612\n",
    "Test accuracy: 0.6645708896573405"
   ]
  },
  {
   "cell_type": "markdown",
   "metadata": {},
   "source": [
    "#### 4.3 Would feature selection help here?"
   ]
  },
  {
   "cell_type": "markdown",
   "metadata": {},
   "source": [
    "*Build another Neural Network model with inputs selected from RFE with regression (use the best model generated in Task 3) and selection with decision tree (use the best model from Task 2).*"
   ]
  },
  {
   "cell_type": "code",
   "execution_count": 71,
   "metadata": {},
   "outputs": [
    {
     "name": "stdout",
     "output_type": "stream",
     "text": [
      "Train accuracy: 0.7128419350491847\n",
      "Test accuracy: 0.6595410248349576\n",
      "              precision    recall  f1-score   support\n",
      "\n",
      "       False       0.63      0.77      0.69      1590\n",
      "        True       0.70      0.55      0.62      1591\n",
      "\n",
      "   micro avg       0.66      0.66      0.66      3181\n",
      "   macro avg       0.67      0.66      0.66      3181\n",
      "weighted avg       0.67      0.66      0.66      3181\n",
      "\n",
      "{'alpha': 0.0001, 'hidden_layer_sizes': (3,)}\n"
     ]
    }
   ],
   "source": [
    "# use the transformed data\n",
    "params = {'hidden_layer_sizes': [(3,), (5,), (7,), (9,)], 'alpha': [0.01,0.001, 0.0001, 0.00001]}\n",
    "\n",
    "cv = GridSearchCV(param_grid=params, estimator=MLPClassifier(random_state=rs), cv=10, n_jobs=-1)\n",
    "cv.fit(X_train_log, y_train_log)\n",
    "\n",
    "print(\"Train accuracy:\", cv.score(X_train_log, y_train_log))\n",
    "print(\"Test accuracy:\", cv.score(X_test_log, y_test_log))\n",
    "\n",
    "y_pred = cv.predict(X_test_log)\n",
    "print(classification_report(y_test_log, y_pred))\n",
    "\n",
    "print(cv.best_params_)"
   ]
  },
  {
   "cell_type": "code",
   "execution_count": 73,
   "metadata": {},
   "outputs": [
    {
     "name": "stdout",
     "output_type": "stream",
     "text": [
      "85\n"
     ]
    }
   ],
   "source": [
    "from sklearn.feature_selection import RFECV\n",
    "from sklearn.linear_model import LogisticRegression\n",
    "\n",
    "rfe = RFECV(estimator = LogisticRegression(random_state=rs, solver = 'liblinear'), cv=10)\n",
    "rfe.fit(X_train_log, y_train_log)\n",
    "\n",
    "print(rfe.n_features_)"
   ]
  },
  {
   "cell_type": "code",
   "execution_count": 74,
   "metadata": {},
   "outputs": [
    {
     "name": "stdout",
     "output_type": "stream",
     "text": [
      "Train accuracy: 0.7333243498180838\n",
      "Test accuracy: 0.6730587865451116\n",
      "              precision    recall  f1-score   support\n",
      "\n",
      "       False       0.66      0.73      0.69      1590\n",
      "        True       0.69      0.62      0.66      1591\n",
      "\n",
      "   micro avg       0.67      0.67      0.67      3181\n",
      "   macro avg       0.67      0.67      0.67      3181\n",
      "weighted avg       0.67      0.67      0.67      3181\n",
      "\n",
      "{'alpha': 1e-05, 'hidden_layer_sizes': (7,)}\n"
     ]
    },
    {
     "name": "stderr",
     "output_type": "stream",
     "text": [
      "/anaconda3/lib/python3.7/site-packages/sklearn/neural_network/multilayer_perceptron.py:562: ConvergenceWarning: Stochastic Optimizer: Maximum iterations (200) reached and the optimization hasn't converged yet.\n",
      "  % self.max_iter, ConvergenceWarning)\n"
     ]
    }
   ],
   "source": [
    "# transform log \n",
    "X_train_rfe = rfe.transform(X_train_log)\n",
    "X_test_rfe = rfe.transform(X_test_log)\n",
    "\n",
    "params = {'hidden_layer_sizes': [(3,), (5,), (7,), (9,)], 'alpha': [0.01,0.001, 0.0001, 0.00001]}\n",
    "\n",
    "cv = GridSearchCV(param_grid=params, estimator=MLPClassifier(random_state=rs), cv=10, n_jobs=-1)\n",
    "cv.fit(X_train_rfe, y_train_log)\n",
    "\n",
    "print(\"Train accuracy:\", cv.score(X_train_rfe, y_train_log))\n",
    "print(\"Test accuracy:\", cv.score(X_test_rfe, y_test_log))\n",
    "\n",
    "y_pred = cv.predict(X_test_rfe)\n",
    "\n",
    "# Use this neural network model\n",
    "model_neural = cv\n",
    "ypred_neural = model_neural.predict_proba(X_test_rfe)\n",
    "report_neural = classification_report(y_test, y_pred)\n",
    "\n",
    "if(verbose):\n",
    "    print(report_neural)\n",
    "    print(cv.best_params_)"
   ]
  },
  {
   "cell_type": "code",
   "execution_count": 75,
   "metadata": {},
   "outputs": [
    {
     "data": {
      "text/plain": [
       "GridSearchCV(cv=10, error_score='raise-deprecating',\n",
       "       estimator=DecisionTreeClassifier(class_weight=None, criterion='gini', max_depth=None,\n",
       "            max_features=None, max_leaf_nodes=None,\n",
       "            min_impurity_decrease=0.0, min_impurity_split=None,\n",
       "            min_samples_leaf=1, min_samples_split=2,\n",
       "            min_weight_fraction_leaf=0.0, presort=False, random_state=10,\n",
       "            splitter='best'),\n",
       "       fit_params=None, iid='warn', n_jobs=None,\n",
       "       param_grid={'criterion': ['gini', 'entropy'], 'max_depth': range(2, 10), 'min_samples_leaf': range(20, 60, 10)},\n",
       "       pre_dispatch='2*n_jobs', refit=True, return_train_score='warn',\n",
       "       scoring=None, verbose=0)"
      ]
     },
     "execution_count": 75,
     "metadata": {},
     "output_type": "execute_result"
    }
   ],
   "source": [
    "from sklearn.tree import DecisionTreeClassifier\n",
    "\n",
    "params = {'criterion': ['gini', 'entropy'],\n",
    "        'max_depth': range(2, 10),\n",
    "        'min_samples_leaf': range(20, 60, 10)}\n",
    "\n",
    "cv = GridSearchCV(param_grid=params, estimator=DecisionTreeClassifier(random_state=rs), cv=10)\n",
    "cv.fit(X_train, y_train)"
   ]
  },
  {
   "cell_type": "code",
   "execution_count": 76,
   "metadata": {},
   "outputs": [
    {
     "name": "stdout",
     "output_type": "stream",
     "text": [
      "(7421, 10)\n"
     ]
    }
   ],
   "source": [
    "from sklearn.feature_selection import SelectFromModel\n",
    "\n",
    "selectmodel = SelectFromModel(cv.best_estimator_, prefit=True)\n",
    "X_train_sel_model = selectmodel.transform(X_train)\n",
    "X_test_sel_model = selectmodel.transform(X_test)\n",
    "\n",
    "print(X_train_sel_model.shape)"
   ]
  },
  {
   "cell_type": "code",
   "execution_count": 77,
   "metadata": {},
   "outputs": [
    {
     "name": "stdout",
     "output_type": "stream",
     "text": [
      "Train accuracy: 0.694380811211427\n",
      "Test accuracy: 0.6837472492926753\n",
      "              precision    recall  f1-score   support\n",
      "\n",
      "       False       0.65      0.78      0.71      1590\n",
      "        True       0.73      0.59      0.65      1591\n",
      "\n",
      "   micro avg       0.68      0.68      0.68      3181\n",
      "   macro avg       0.69      0.68      0.68      3181\n",
      "weighted avg       0.69      0.68      0.68      3181\n",
      "\n",
      "{'alpha': 0.001, 'hidden_layer_sizes': (7,)}\n"
     ]
    }
   ],
   "source": [
    "params = {'hidden_layer_sizes': [(3,), (5,), (7,), (9,)], 'alpha': [0.01,0.001, 0.0001, 0.00001]}\n",
    "\n",
    "cv = GridSearchCV(param_grid=params, estimator=MLPClassifier(random_state=rs), cv=10, n_jobs=-1)\n",
    "cv.fit(X_train_sel_model, y_train)\n",
    "nn_model = cv.best_estimator_\n",
    "\n",
    "print(\"Train accuracy:\", cv.score(X_train_sel_model, y_train))\n",
    "print(\"Test accuracy:\", cv.score(X_test_sel_model, y_test))\n",
    "\n",
    "y_pred = cv.predict(X_test_sel_model)\n",
    "print(classification_report(y_test, y_pred))\n",
    "\n",
    "print(cv.best_params_)"
   ]
  },
  {
   "cell_type": "markdown",
   "metadata": {},
   "source": [
    "*(a) Did feature selection help here? Any change in the network architecture? What inputs are being used as the network input?*\n",
    "\n",
    "Had some help as it slight increased the accuracy. The inputs are from the best model in logical regression and decision tree.\n",
    "\n",
    "*(b) What is classification accuracy on training and test datasets? Is there any improvement in the outcome?*\n",
    "\n",
    "Using decision tree inputs: Train accuracy: 0.6853523783856623 Test accuracy: 0.6736875196479095\n",
    "\n",
    "Using regression inputs: Train accuracy: 0.7110901495755289 Test accuracy: 0.6677145551713297\n",
    "\n",
    "Both have a similar slight improvement in the outcome.\n",
    "\n",
    "*(c) How many iterations are now needed to train this network?*\n",
    "\n",
    "Less than the default 200, as there is no warning.\n",
    "\n",
    "*(d) Do you see any sign of over-fitting?*\n",
    "\n",
    "Yes, both have slightly over-fitting as train accuracy is higher than test accuracy.\n",
    "\n",
    "*(e) Did the training process converge and resulted in the best model?*\n",
    "\n",
    "Yes, the training process converged and resulted in the best model."
   ]
  },
  {
   "cell_type": "markdown",
   "metadata": {},
   "source": [
    "#### 4.4"
   ]
  },
  {
   "cell_type": "markdown",
   "metadata": {},
   "source": [
    "*Using the comparison methods, which of the models (i.e one with selected variables and another with all variables) appears to be better?*\n",
    "\n",
    "The model with selected variables of decision tree best model appears to be better as it has relatively higer test accuracy.\n",
    "\n",
    "*From the better model, can you identify cars those could potential be “kicks”? Can you provide some descriptive summary of those cars?*\n",
    "\n",
    "No, neural networks did not provide importance of each attributes.\n",
    "\n",
    "*Is it easy to comprehend the performance of the best neural network model for decision making?*\n",
    "\n",
    "No, the neural network model return outputs according to the inputs and it does not explain how it make the decision."
   ]
  },
  {
   "cell_type": "markdown",
   "metadata": {},
   "source": [
    "## Task 5 - Generating an Ensemble Model and Comparing Models\n",
    "#### 5.1 Generate an ensemble model to include the best regression model, best decision tree model, and best neural network model. Does the Ensemble model outperform the underlying models? Resonate your answer.\n",
    "\n",
    "The test accuracy and ROC score are higher than all the three individual models, thus the ensemble modal outperform the underlyiing model."
   ]
  },
  {
   "cell_type": "code",
   "execution_count": 88,
   "metadata": {
    "scrolled": true
   },
   "outputs": [
    {
     "name": "stderr",
     "output_type": "stream",
     "text": [
      "/anaconda3/lib/python3.7/site-packages/sklearn/linear_model/logistic.py:433: FutureWarning: Default solver will be changed to 'lbfgs' in 0.22. Specify a solver to silence this warning.\n",
      "  FutureWarning)\n"
     ]
    },
    {
     "name": "stdout",
     "output_type": "stream",
     "text": [
      "Ensemble train accuracy: 0.7209270987737502\n",
      "Ensemble test accuracy: 0.689405847217856\n",
      "              precision    recall  f1-score   support\n",
      "\n",
      "       False       0.66      0.78      0.71      1590\n",
      "        True       0.73      0.60      0.66      1591\n",
      "\n",
      "   micro avg       0.69      0.69      0.69      3181\n",
      "   macro avg       0.70      0.69      0.69      3181\n",
      "weighted avg       0.70      0.69      0.69      3181\n",
      "\n"
     ]
    },
    {
     "name": "stderr",
     "output_type": "stream",
     "text": [
      "/anaconda3/lib/python3.7/site-packages/sklearn/neural_network/multilayer_perceptron.py:562: ConvergenceWarning: Stochastic Optimizer: Maximum iterations (200) reached and the optimization hasn't converged yet.\n",
      "  % self.max_iter, ConvergenceWarning)\n"
     ]
    }
   ],
   "source": [
    "\n",
    "# import the model\n",
    "voting = VotingClassifier(estimators=[('dt', model_dt), ('lr', model_reg), ('nn', model_neural)], voting='soft')\n",
    "\n",
    "# fit the voting classifier to training data\n",
    "voting.fit(X_train, y_train)\n",
    "\n",
    "# evaluate train and test accuracy\n",
    "print(\"Ensemble train accuracy:\", voting.score(X_train, y_train))\n",
    "print(\"Ensemble test accuracy:\", voting.score(X_test, y_test))\n",
    "\n",
    "# evaluate ROC auc score\n",
    "y_pred_proba_ensemble = voting.predict_proba(X_test)\n",
    "roc_index_ensemble = roc_auc_score(y_test, y_pred_proba_ensemble[:, 1])\n",
    "\n",
    "y_pred = voting.predict(X_test)\n",
    "report_ens = classification_report(y_test, y_pred)\n",
    "\n",
    "print(report_ens)"
   ]
  },
  {
   "cell_type": "markdown",
   "metadata": {},
   "source": [
    "#### 5.2 Use the comparison methods (or the comparison node) to compare the best decision tree model, the best regression model, the best neural network model and the ensemble model. "
   ]
  },
  {
   "cell_type": "code",
   "execution_count": 79,
   "metadata": {},
   "outputs": [
    {
     "name": "stdout",
     "output_type": "stream",
     "text": [
      "Accuracy score on test for DT: 0.6736875196479095\n",
      "Accuracy score on test for logistic regression: 0.6718013203395159\n",
      "Accuracy score on test for NN: 0.6837472492926753\n"
     ]
    }
   ],
   "source": [
    "y_pred_dt = dt_model.predict(tree_X_test)\n",
    "y_pred_log_reg = log_reg_model.predict(reg_X_test)\n",
    "y_pred_nn = nn_model.predict(X_test_sel_model)\n",
    "\n",
    "print(\"Accuracy score on test for DT:\", accuracy_score(y_test, y_pred_dt))\n",
    "print(\"Accuracy score on test for logistic regression:\", accuracy_score(y_test, y_pred_log_reg))\n",
    "print(\"Accuracy score on test for NN:\", accuracy_score(y_test, y_pred_nn))"
   ]
  },
  {
   "cell_type": "code",
   "execution_count": 80,
   "metadata": {},
   "outputs": [
    {
     "name": "stdout",
     "output_type": "stream",
     "text": [
      "Probability produced by decision tree for each class vs actual prediction on TargetB (0 = non-donor, 1 = donor). You should be able to see the default threshold of 0.5.\n",
      "(Probs on zero)\t(probs on one)\t(prediction made)\n",
      "0.5204081632653061 \t 0.47959183673469385 \t False\n",
      "0.0 \t 1.0 \t True\n",
      "0.756578947368421 \t 0.24342105263157895 \t False\n",
      "0.7024070021881839 \t 0.2975929978118162 \t False\n",
      "0.48476454293628807 \t 0.5152354570637119 \t True\n",
      "0.5662650602409639 \t 0.43373493975903615 \t False\n",
      "0.23333333333333334 \t 0.7666666666666667 \t True\n",
      "0.5144508670520231 \t 0.48554913294797686 \t False\n",
      "0.16666666666666666 \t 0.8333333333333334 \t True\n",
      "0.022988505747126436 \t 0.9770114942528736 \t True\n",
      "0.0 \t 1.0 \t True\n",
      "0.5144508670520231 \t 0.48554913294797686 \t False\n",
      "0.5102040816326531 \t 0.4897959183673469 \t False\n",
      "0.7428571428571429 \t 0.2571428571428571 \t False\n",
      "0.7024070021881839 \t 0.2975929978118162 \t False\n",
      "0.6089644513137558 \t 0.3910355486862442 \t False\n",
      "0.3047337278106509 \t 0.6952662721893491 \t True\n",
      "0.5144508670520231 \t 0.48554913294797686 \t False\n",
      "0.756578947368421 \t 0.24342105263157895 \t False\n",
      "0.7024070021881839 \t 0.2975929978118162 \t False\n"
     ]
    }
   ],
   "source": [
    "# typical prediction\n",
    "y_pred = dt_model.predict(tree_X_test)\n",
    "\n",
    "# probability prediction from decision tree\n",
    "y_pred_proba_dt = dt_model.predict_proba(tree_X_test)\n",
    "\n",
    "print(\"Probability produced by decision tree for each class vs actual prediction on TargetB (0 = non-donor, 1 = donor). You should be able to see the default threshold of 0.5.\")\n",
    "print(\"(Probs on zero)\\t(probs on one)\\t(prediction made)\")\n",
    "# print top 10\n",
    "for i in range(20):\n",
    "    print(y_pred_proba_dt[i][0], '\\t', y_pred_proba_dt[i][1], '\\t', y_pred[i])"
   ]
  },
  {
   "cell_type": "code",
   "execution_count": 86,
   "metadata": {},
   "outputs": [
    {
     "name": "stdout",
     "output_type": "stream",
     "text": [
      "ROC index on test for DT: 0.7371168008728343\n",
      "ROC index on test for logistic regression: 0.7501263000604816\n",
      "ROC index on test for NN: 0.7568883934395123\n",
      "ROC index on test for ensemble model: 0.7678822306290495\n"
     ]
    }
   ],
   "source": [
    "from sklearn.metrics import roc_auc_score\n",
    "\n",
    "y_pred_proba_dt = dt_model.predict_proba(tree_X_test)\n",
    "y_pred_proba_log_reg = log_reg_model.predict_proba(reg_X_test)\n",
    "y_pred_proba_nn = nn_model.predict_proba(X_test_sel_model)\n",
    "\n",
    "roc_index_dt = roc_auc_score(tree_y_test, y_pred_proba_dt[:,1])\n",
    "roc_index_log_reg = roc_auc_score(reg_y_test, y_pred_proba_log_reg[:,1])\n",
    "roc_index_nn = roc_auc_score(y_test, y_pred_proba_nn[:,1])\n",
    "\n",
    "print(\"ROC index on test for DT:\", roc_index_dt)\n",
    "print(\"ROC index on test for logistic regression:\", roc_index_log_reg)\n",
    "print(\"ROC index on test for NN:\", roc_index_nn)\n",
    "print(\"ROC index on test for ensemble model:\", roc_index_ensemble)"
   ]
  },
  {
   "cell_type": "code",
   "execution_count": 84,
   "metadata": {},
   "outputs": [],
   "source": [
    "from sklearn.metrics import roc_curve\n",
    "\n",
    "fpr_dt, tpr_dt, thresholds_dt = roc_curve(y_test, y_pred_proba_dt[:,1])\n",
    "fpr_log_reg, tpr_log_reg, thresholds_log_reg = roc_curve(y_test, y_pred_proba_log_reg[:,1])\n",
    "fpr_nn, tpr_nn, thresholds_nn = roc_curve(y_test, y_pred_proba_nn[:,1])\n",
    "fpr_ens, tpr_ens, thresholds_ens = roc_curve(y_test, y_pred_proba_ensemble[:,1])"
   ]
  },
  {
   "cell_type": "code",
   "execution_count": 89,
   "metadata": {},
   "outputs": [
    {
     "data": {
      "image/png": "[encoded data removed]",
      "text/plain": [
       "<Figure size 432x288 with 1 Axes>"
      ]
     },
     "metadata": {
      "needs_background": "light"
     },
     "output_type": "display_data"
    },
    {
     "name": "stdout",
     "output_type": "stream",
     "text": [
      "              precision    recall  f1-score   support\n",
      "\n",
      "       False       0.64      0.78      0.71      1590\n",
      "        True       0.72      0.57      0.63      1591\n",
      "\n",
      "   micro avg       0.67      0.67      0.67      3181\n",
      "   macro avg       0.68      0.67      0.67      3181\n",
      "weighted avg       0.68      0.67      0.67      3181\n",
      "\n",
      "              precision    recall  f1-score   support\n",
      "\n",
      "       False       0.65      0.75      0.70      1590\n",
      "        True       0.71      0.60      0.65      1591\n",
      "\n",
      "   micro avg       0.67      0.67      0.67      3181\n",
      "   macro avg       0.68      0.67      0.67      3181\n",
      "weighted avg       0.68      0.67      0.67      3181\n",
      "\n",
      "              precision    recall  f1-score   support\n",
      "\n",
      "       False       0.66      0.73      0.69      1590\n",
      "        True       0.69      0.62      0.66      1591\n",
      "\n",
      "   micro avg       0.67      0.67      0.67      3181\n",
      "   macro avg       0.67      0.67      0.67      3181\n",
      "weighted avg       0.67      0.67      0.67      3181\n",
      "\n",
      "              precision    recall  f1-score   support\n",
      "\n",
      "       False       0.66      0.78      0.71      1590\n",
      "        True       0.73      0.60      0.66      1591\n",
      "\n",
      "   micro avg       0.69      0.69      0.69      3181\n",
      "   macro avg       0.70      0.69      0.69      3181\n",
      "weighted avg       0.70      0.69      0.69      3181\n",
      "\n"
     ]
    }
   ],
   "source": [
    "#ypred_voting = voting.predict_proba(X_test)\n",
    "\n",
    "roc_index_dt = roc_auc_score(y_test, ypred_dt[:, 1])\n",
    "roc_index_reg = roc_auc_score(y_test, ypred_reg[:, 1])\n",
    "roc_index_nn = roc_auc_score(y_test, ypred_neural[:, 1])\n",
    "roc_index_vote = roc_auc_score(y_test, y_pred_proba_ensemble[:,1])\n",
    "\n",
    "plt.plot(fpr_dt, tpr_dt, label='Decision Tree'.format(roc_index_dt), color='red', lw=0.5)\n",
    "plt.plot(fpr_log_reg, tpr_log_reg, label='Regression'.format(roc_index_reg), color='green', lw=0.5)\n",
    "plt.plot(fpr_nn, tpr_nn, label='Neural Network'.format(roc_index_nn), color='darkorange', lw=0.5)\n",
    "plt.plot(fpr_ens, tpr_ens, label='Voting'.format(roc_index_vote), color='blue', lw=0.5)\n",
    "\n",
    "plt.plot([0, 1], [0, 1], color='navy', lw=0.5, linestyle='--')\n",
    "plt.xlim([0.0, 1.0])\n",
    "plt.ylim([0.0, 1.0])\n",
    "plt.xlabel('False Positive Rate')\n",
    "plt.ylabel('True Positive Rate')\n",
    "plt.title('ROC Curve')\n",
    "plt.legend(loc=\"lower right\")\n",
    "plt.show()\n",
    "\n",
    "print(report_dt)\n",
    "print(report_reg)\n",
    "print(report_neural)\n",
    "print(report_ens)"
   ]
  },
  {
   "cell_type": "markdown",
   "metadata": {},
   "source": [
    "- (a) ROC Chart (and Index);\n",
    "The chart and index shows that ensemble mode has the relative best result, as its index is the higherst in the four models. The second is Neural Network model, then Logical Regression, then decision tree.\n",
    "\n",
    "- (b) Score Ranking (or Accuracy Score);\n",
    "By comparing the accuracy score, ensemble mode still has the best result, the second is Neural Networ, then decision tree, then Logical Regression.\n",
    "\n",
    "- (c) Classification report\n",
    "The overall result and f1-score shows the ensemble mode has best performance and the other three results are similar.\n",
    "\n",
    "- (d) Output\n",
    "\n",
    "*(5.2b) Do all the models agree on the cars characteristics? How do they vary?*"
   ]
  },
  {
   "cell_type": "markdown",
   "metadata": {},
   "source": [
    "## Task 6 - Final Remarks: Decision Making\n",
    "#### 6.1 Finally, based on all models and analysis, is there a particular model you will use in decision making? Justify your choice.\n",
    "We lack knowledge of the problem domain. The emsembled model might work fine if the people working at the car dealership have access to a computer throughout negotiations. The decision tree might be a better fit solution is they do not have access to a computer as the model can easier be translated into 'rule of thumb'-tips to improve decision making.\n",
    "\n",
    "#### 6.2 Can you summarise positives and negatives of each predictive modelling method based on this analysis?\n",
    "Regression and decision tree seems to have similar results - the decision tree is however easier to interpret. The neural network had a strong tendency of overfitting and the resulting model was hard to interprete. We believe it would be a better fit for automated tasks where a higher precision can be achieved. A car deal is a longer process and the price is negotiable, so it is important that the 'learning outcomes' of the data mining can be easily conveyed.\n",
    "\n",
    "#### 6.3 How the outcome of this study can be used by decision makers? \n",
    "The outcome can be used as 'rule of thumb' tips and to highlight 'warning signs' when negotiating the price of a car at the dealership. The precision of the models are not high enough to be blindly trusted as automated decision making."
   ]
  },
  {
   "cell_type": "code",
   "execution_count": null,
   "metadata": {},
   "outputs": [],
   "source": []
  }
 ],
 "metadata": {
  "kernelspec": {
   "display_name": "Python 3",
   "language": "python",
   "name": "python3"
  },
  "language_info": {
   "codemirror_mode": {
    "name": "ipython",
    "version": 3
   },
   "file_extension": ".py",
   "mimetype": "text/x-python",
   "name": "python",
   "nbconvert_exporter": "python",
   "pygments_lexer": "ipython3",
   "version": "3.7.1"
  }
 },
 "nbformat": 4,
 "nbformat_minor": 2
}
