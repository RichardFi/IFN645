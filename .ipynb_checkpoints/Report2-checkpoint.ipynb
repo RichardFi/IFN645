{
 "cells": [
  {
   "cell_type": "markdown",
   "metadata": {},
   "source": [
    "# Predictive Data Mining\n",
    "IFN645 - Data Mining Technologies and Applications\n",
    "Due date: 7th April, 2019\n",
    "\n",
    "Before answering any questions we need to import the neccessary libraries and data:"
   ]
  },
  {
   "cell_type": "code",
   "execution_count": 1,
   "metadata": {},
   "outputs": [
    {
     "name": "stderr",
     "output_type": "stream",
     "text": [
      "C:\\Users\\Computer\\Anaconda3\\lib\\site-packages\\IPython\\core\\interactiveshell.py:2785: DtypeWarning: Columns (27) have mixed types. Specify dtype option on import or set low_memory=False.\n",
      "  interactivity=interactivity, compiler=compiler, result=result)\n"
     ]
    }
   ],
   "source": [
    "import numpy as np\n",
    "import pandas as pd\n",
    "import matplotlib.pyplot as plt\n",
    "import seaborn as sns\n",
    "from sklearn.model_selection import train_test_split\n",
    "from sklearn.metrics import classification_report, accuracy_score\n",
    "from sklearn.model_selection import GridSearchCV\n",
    "from sklearn.linear_model import LogisticRegression\n",
    "from sklearn.preprocessing import StandardScaler\n",
    "from sklearn.tree import DecisionTreeClassifier\n",
    "from sklearn.metrics import classification_report, accuracy_score\n",
    "df = pd.read_csv('./data.csv')\n",
    "\n",
    "# Toggle whether or not to show output.\n",
    "verbose = True\n",
    "target_value = \"IsBadBuy\""
   ]
  },
  {
   "cell_type": "markdown",
   "metadata": {},
   "source": [
    "### Task 1 - Data Selection and Distribution. \n",
    "#### 1.1 What is the proportion of cars who can be classified as a “kick”?\n",
    "The proportion of *kicks* can be calculated using the function .mean() because the data is stored binary in the column *IsBadBuy*.  12.95% of the cars are *kicks* in the provided dataset."
   ]
  },
  {
   "cell_type": "code",
   "execution_count": 2,
   "metadata": {},
   "outputs": [
    {
     "name": "stdout",
     "output_type": "stream",
     "text": [
      "Percentage of kicks: 12.94965763333012%\n"
     ]
    }
   ],
   "source": [
    "if(verbose):\n",
    "    print(\"Percentage of kicks: \" + str(df[target_value].mean() * 100) + \"%\")"
   ]
  },
  {
   "cell_type": "markdown",
   "metadata": {},
   "source": [
    "#### 1.2 Did you have to fix any data quality problems? Detail them.\n",
    "We found a bunch of data quality problems that we had to take care of.\n",
    "\n",
    "Almost all data was missing on 44 of the rows, so we decided to remove them from the dataset. The percentage of *kicks* remained 12.95%."
   ]
  },
  {
   "cell_type": "code",
   "execution_count": 3,
   "metadata": {},
   "outputs": [
    {
     "name": "stdout",
     "output_type": "stream",
     "text": [
      "       PurchaseID  PurchaseTimestamp      PurchaseDate Auction  VehYear Make  \\\n",
      "20512       20512         1279065600  14/07/2010 10:00     NaN        0  NaN   \n",
      "20513       20513         1279065600  14/07/2010 10:00     NaN        0  NaN   \n",
      "20514       20514         1279065600  14/07/2010 10:00     NaN        0  NaN   \n",
      "20515       20515         1279065600  14/07/2010 10:00     NaN        0  NaN   \n",
      "20516       20516         1279065600  14/07/2010 10:00     NaN        0  NaN   \n",
      "20676       20676         1286496000   8/10/2010 10:00     NaN        0  NaN   \n",
      "20677       20677         1286496000   8/10/2010 10:00     NaN        0  NaN   \n",
      "20678       20678         1286928000  13/10/2010 10:00     NaN        0  NaN   \n",
      "20679       20679         1286928000  13/10/2010 10:00     NaN        0  NaN   \n",
      "20680       20680         1286928000  13/10/2010 10:00     NaN        0  NaN   \n",
      "20681       20681         1286928000  13/10/2010 10:00     NaN        0  NaN   \n",
      "20682       20682         1286928000  13/10/2010 10:00     NaN        0  NaN   \n",
      "20683       20683         1286928000  13/10/2010 10:00     NaN        0  NaN   \n",
      "20684       20684         1286928000  13/10/2010 10:00     NaN        0  NaN   \n",
      "20685       20685         1286928000  13/10/2010 10:00     NaN        0  NaN   \n",
      "20686       20686         1286928000  13/10/2010 10:00     NaN        0  NaN   \n",
      "20687       20687         1286928000  13/10/2010 10:00     NaN        0  NaN   \n",
      "20688       20688         1286928000  13/10/2010 10:00     NaN        0  NaN   \n",
      "20689       20689         1286928000  13/10/2010 10:00     NaN        0  NaN   \n",
      "20690       20690         1286928000  13/10/2010 10:00     NaN        0  NaN   \n",
      "20691       20691         1286928000  13/10/2010 10:00     NaN        0  NaN   \n",
      "20692       20692         1286928000  13/10/2010 10:00     NaN        0  NaN   \n",
      "20693       20693         1286928000  13/10/2010 10:00     NaN        0  NaN   \n",
      "20694       20694         1286928000  13/10/2010 10:00     NaN        0  NaN   \n",
      "20695       20695         1286928000  13/10/2010 10:00     NaN        0  NaN   \n",
      "20696       20696         1286928000  13/10/2010 10:00     NaN        0  NaN   \n",
      "20697       20697         1286928000  13/10/2010 10:00     NaN        0  NaN   \n",
      "20698       20698         1286928000  13/10/2010 10:00     NaN        0  NaN   \n",
      "20699       20699         1286928000  13/10/2010 10:00     NaN        0  NaN   \n",
      "20700       20700         1286928000  13/10/2010 10:00     NaN        0  NaN   \n",
      "20701       20701         1286928000  13/10/2010 10:00     NaN        0  NaN   \n",
      "20702       20702         1286928000  13/10/2010 10:00     NaN        0  NaN   \n",
      "20703       20703         1286928000  13/10/2010 10:00     NaN        0  NaN   \n",
      "20704       20704         1286928000  13/10/2010 10:00     NaN        0  NaN   \n",
      "20705       20705         1286928000  13/10/2010 10:00     NaN        0  NaN   \n",
      "20706       20706         1286928000  13/10/2010 10:00     NaN        0  NaN   \n",
      "20707       20707         1286928000  13/10/2010 10:00     NaN        0  NaN   \n",
      "20708       20708         1286928000  13/10/2010 10:00     NaN        0  NaN   \n",
      "20709       20709         1286928000  13/10/2010 10:00     NaN        0  NaN   \n",
      "20710       20710         1286928000  13/10/2010 10:00     NaN        0  NaN   \n",
      "20711       20711         1286928000  13/10/2010 10:00     NaN        0  NaN   \n",
      "20712       20712         1286928000  13/10/2010 10:00     NaN        0  NaN   \n",
      "20713       20713         1286928000  13/10/2010 10:00     NaN        0  NaN   \n",
      "20714       20714         1286928000  13/10/2010 10:00     NaN        0  NaN   \n",
      "\n",
      "      Color Transmission WheelTypeID WheelType  ...  \\\n",
      "20512   NaN          NaN         NaN       NaN  ...   \n",
      "20513   NaN          NaN         NaN       NaN  ...   \n",
      "20514   NaN          NaN         NaN       NaN  ...   \n",
      "20515   NaN          NaN         NaN       NaN  ...   \n",
      "20516   NaN          NaN         NaN       NaN  ...   \n",
      "20676   NaN          NaN         NaN       NaN  ...   \n",
      "20677   NaN          NaN         NaN       NaN  ...   \n",
      "20678   NaN          NaN         NaN       NaN  ...   \n",
      "20679   NaN          NaN         NaN       NaN  ...   \n",
      "20680   NaN          NaN         NaN       NaN  ...   \n",
      "20681   NaN          NaN         NaN       NaN  ...   \n",
      "20682   NaN          NaN         NaN       NaN  ...   \n",
      "20683   NaN          NaN         NaN       NaN  ...   \n",
      "20684   NaN          NaN         NaN       NaN  ...   \n",
      "20685   NaN          NaN         NaN       NaN  ...   \n",
      "20686   NaN          NaN         NaN       NaN  ...   \n",
      "20687   NaN          NaN         NaN       NaN  ...   \n",
      "20688   NaN          NaN         NaN       NaN  ...   \n",
      "20689   NaN          NaN         NaN       NaN  ...   \n",
      "20690   NaN          NaN         NaN       NaN  ...   \n",
      "20691   NaN          NaN         NaN       NaN  ...   \n",
      "20692   NaN          NaN         NaN       NaN  ...   \n",
      "20693   NaN          NaN         NaN       NaN  ...   \n",
      "20694   NaN          NaN         NaN       NaN  ...   \n",
      "20695   NaN          NaN         NaN       NaN  ...   \n",
      "20696   NaN          NaN         NaN       NaN  ...   \n",
      "20697   NaN          NaN         NaN       NaN  ...   \n",
      "20698   NaN          NaN         NaN       NaN  ...   \n",
      "20699   NaN          NaN         NaN       NaN  ...   \n",
      "20700   NaN          NaN         NaN       NaN  ...   \n",
      "20701   NaN          NaN         NaN       NaN  ...   \n",
      "20702   NaN          NaN         NaN       NaN  ...   \n",
      "20703   NaN          NaN         NaN       NaN  ...   \n",
      "20704   NaN          NaN         NaN       NaN  ...   \n",
      "20705   NaN          NaN         NaN       NaN  ...   \n",
      "20706   NaN          NaN         NaN       NaN  ...   \n",
      "20707   NaN          NaN         NaN       NaN  ...   \n",
      "20708   NaN          NaN         NaN       NaN  ...   \n",
      "20709   NaN          NaN         NaN       NaN  ...   \n",
      "20710   NaN          NaN         NaN       NaN  ...   \n",
      "20711   NaN          NaN         NaN       NaN  ...   \n",
      "20712   NaN          NaN         NaN       NaN  ...   \n",
      "20713   NaN          NaN         NaN       NaN  ...   \n",
      "20714   NaN          NaN         NaN       NaN  ...   \n",
      "\n",
      "       MMRCurrentRetailCleanPrice MMRCurrentRetailRatio PRIMEUNIT AUCGUART  \\\n",
      "20512                         NaN                   NaN       NaN      NaN   \n",
      "20513                         NaN                   NaN       NaN      NaN   \n",
      "20514                         NaN                   NaN       NaN      NaN   \n",
      "20515                         NaN                   NaN       NaN      NaN   \n",
      "20516                         NaN                   NaN       NaN      NaN   \n",
      "20676                         NaN                   NaN       NaN      NaN   \n",
      "20677                         NaN                   NaN       NaN      NaN   \n",
      "20678                         NaN                   NaN       NaN      NaN   \n",
      "20679                         NaN                   NaN       NaN      NaN   \n",
      "20680                         NaN                   NaN       NaN      NaN   \n",
      "20681                         NaN                   NaN       NaN      NaN   \n",
      "20682                         NaN                   NaN       NaN      NaN   \n",
      "20683                         NaN                   NaN       NaN      NaN   \n",
      "20684                         NaN                   NaN       NaN      NaN   \n",
      "20685                         NaN                   NaN       NaN      NaN   \n",
      "20686                         NaN                   NaN       NaN      NaN   \n",
      "20687                         NaN                   NaN       NaN      NaN   \n",
      "20688                         NaN                   NaN       NaN      NaN   \n",
      "20689                         NaN                   NaN       NaN      NaN   \n",
      "20690                         NaN                   NaN       NaN      NaN   \n",
      "20691                         NaN                   NaN       NaN      NaN   \n",
      "20692                         NaN                   NaN       NaN      NaN   \n",
      "20693                         NaN                   NaN       NaN      NaN   \n",
      "20694                         NaN                   NaN       NaN      NaN   \n",
      "20695                         NaN                   NaN       NaN      NaN   \n",
      "20696                         NaN                   NaN       NaN      NaN   \n",
      "20697                         NaN                   NaN       NaN      NaN   \n",
      "20698                         NaN                   NaN       NaN      NaN   \n",
      "20699                         NaN                   NaN       NaN      NaN   \n",
      "20700                         NaN                   NaN       NaN      NaN   \n",
      "20701                         NaN                   NaN       NaN      NaN   \n",
      "20702                         NaN                   NaN       NaN      NaN   \n",
      "20703                         NaN                   NaN       NaN      NaN   \n",
      "20704                         NaN                   NaN       NaN      NaN   \n",
      "20705                         NaN                   NaN       NaN      NaN   \n",
      "20706                         NaN                   NaN       NaN      NaN   \n",
      "20707                         NaN                   NaN       NaN      NaN   \n",
      "20708                         NaN                   NaN       NaN      NaN   \n",
      "20709                         NaN                   NaN       NaN      NaN   \n",
      "20710                         NaN                   NaN       NaN      NaN   \n",
      "20711                         NaN                   NaN       NaN      NaN   \n",
      "20712                         NaN                   NaN       NaN      NaN   \n",
      "20713                         NaN                   NaN       NaN      NaN   \n",
      "20714                         NaN                   NaN       NaN      NaN   \n",
      "\n",
      "      VNST VehBCost IsOnlineSale WarrantyCost ForSale IsBadBuy  \n",
      "20512  NaN      NaN          NaN          NaN     Yes        0  \n",
      "20513  NaN      NaN          NaN          NaN     Yes        0  \n",
      "20514  NaN      NaN          NaN          NaN     Yes        0  \n",
      "20515  NaN      NaN          NaN          NaN     Yes        0  \n",
      "20516  NaN      NaN          NaN          NaN     Yes        0  \n",
      "20676  NaN      NaN          NaN          NaN     Yes        0  \n",
      "20677  NaN      NaN          NaN          NaN     Yes        0  \n",
      "20678  NaN      NaN          NaN          NaN     Yes        0  \n",
      "20679  NaN      NaN          NaN          NaN     Yes        0  \n",
      "20680  NaN      NaN          NaN          NaN     Yes        0  \n",
      "20681  NaN      NaN          NaN          NaN     Yes        0  \n",
      "20682  NaN      NaN          NaN          NaN     Yes        0  \n",
      "20683  NaN      NaN          NaN          NaN     Yes        0  \n",
      "20684  NaN      NaN          NaN          NaN     Yes        0  \n",
      "20685  NaN      NaN          NaN          NaN     Yes        1  \n",
      "20686  NaN      NaN          NaN          NaN     Yes        0  \n",
      "20687  NaN      NaN          NaN          NaN     Yes        0  \n",
      "20688  NaN      NaN          NaN          NaN     Yes        0  \n",
      "20689  NaN      NaN          NaN          NaN     Yes        1  \n",
      "20690  NaN      NaN          NaN          NaN     Yes        0  \n",
      "20691  NaN      NaN          NaN          NaN     Yes        1  \n",
      "20692  NaN      NaN          NaN          NaN     Yes        0  \n",
      "20693  NaN      NaN          NaN          NaN     Yes        0  \n",
      "20694  NaN      NaN          NaN          NaN     Yes        0  \n",
      "20695  NaN      NaN          NaN          NaN     Yes        0  \n",
      "20696  NaN      NaN          NaN          NaN     Yes        1  \n",
      "20697  NaN      NaN          NaN          NaN     Yes        0  \n",
      "20698  NaN      NaN          NaN          NaN     Yes        1  \n",
      "20699  NaN      NaN          NaN          NaN     Yes        0  \n",
      "20700  NaN      NaN          NaN          NaN     Yes        0  \n",
      "20701  NaN      NaN          NaN          NaN     Yes        0  \n",
      "20702  NaN      NaN          NaN          NaN     Yes        0  \n",
      "20703  NaN      NaN          NaN          NaN     Yes        0  \n",
      "20704  NaN      NaN          NaN          NaN     Yes        0  \n",
      "20705  NaN      NaN          NaN          NaN     Yes        0  \n",
      "20706  NaN      NaN          NaN          NaN     Yes        0  \n",
      "20707  NaN      NaN          NaN          NaN     Yes        0  \n",
      "20708  NaN      NaN          NaN          NaN     Yes        1  \n",
      "20709  NaN      NaN          NaN          NaN     Yes        0  \n",
      "20710  NaN      NaN          NaN          NaN     Yes        0  \n",
      "20711  NaN      NaN          NaN          NaN     Yes        0  \n",
      "20712  NaN      NaN          NaN          NaN     Yes        0  \n",
      "20713  NaN      NaN          NaN          NaN     Yes        0  \n",
      "20714  NaN      NaN          NaN          NaN     Yes        0  \n",
      "\n",
      "[44 rows x 31 columns]\n"
     ]
    }
   ],
   "source": [
    "c_name = \"VehYear\"\n",
    "df[c_name] = df[c_name].fillna(0).astype(int)\n",
    "if(verbose):\n",
    "    print(df.loc[df[c_name] == 0])\n",
    "df = df[df[c_name] != 0]"
   ]
  },
  {
   "cell_type": "markdown",
   "metadata": {},
   "source": [
    "Some columns required data cleaning. As we did not have a data/domain expert available we had to make some assumptions:\n",
    "- *Manual* and *MANUAL* is assumed to be the same in the column *Transmission*.\n",
    "- All values except 0 and 0.0 is assumed to be 1 in the column *IsOnlineSale*.\n",
    "- *IsOnlineSale* should be represented as a binary value.\n",
    "- *IsBadBuy* should be represented as binary value.\n",
    "- All *MMR...* values should be interpreted as numbers, not strings.\n",
    "- *WheelType* empty cells should be *?*."
   ]
  },
  {
   "cell_type": "code",
   "execution_count": 4,
   "metadata": {},
   "outputs": [
    {
     "name": "stdout",
     "output_type": "stream",
     "text": [
      "['AUTO' 'MANUAL' 'Manual' '?']\n",
      "['AUTO' 'MANUAL']\n"
     ]
    },
    {
     "data": {
      "image/png": "[encoded data removed]",
      "text/plain": [
       "<Figure size 432x288 with 1 Axes>"
      ]
     },
     "metadata": {
      "needs_background": "light"
     },
     "output_type": "display_data"
    },
    {
     "data": {
      "image/png": "[encoded data removed]",
      "text/plain": [
       "<Figure size 432x288 with 1 Axes>"
      ]
     },
     "metadata": {
      "needs_background": "light"
     },
     "output_type": "display_data"
    }
   ],
   "source": [
    "\n",
    "c_name = \"Transmission\"\n",
    "if(verbose):\n",
    "    print(df[c_name].unique())\n",
    "df[c_name] = df[c_name].mask(df[c_name] == \"Manual\", \"MANUAL\")\n",
    "df[c_name] = df[c_name].mask(df[c_name] == \"?\", \"AUTO\")\n",
    "if(verbose):\n",
    "    print(df[c_name].unique())\n",
    "    \n",
    "c_name = \"IsOnlineSale\"\n",
    "if(verbose):\n",
    "    dg = sns.countplot(data=df, x=c_name)\n",
    "    plt.show()\n",
    "\n",
    "    \n",
    "    \n",
    "df[c_name] = df[c_name].mask(df[c_name] == 0.0, \"0\")\n",
    "df[c_name] = np.where(df[c_name] == \"0\", False, True)\n",
    "\n",
    "if(verbose):\n",
    "    dg = sns.countplot(data=df, x=c_name)\n",
    "    plt.show()\n",
    "    \n",
    "c_name = \"IsBadBuy\"\n",
    "if(verbose):\n",
    "    df[c_name].unique()\n",
    "df[c_name] = df[c_name].astype(bool)\n",
    "if(verbose):\n",
    "    df[c_name].unique()\n",
    "\n",
    "     \n",
    "for c_name in [\"MMRAcquisitionAuctionAveragePrice\",\n",
    "              \"MMRAcquisitionAuctionCleanPrice\",\n",
    "              \"MMRAcquisitionRetailAveragePrice\",\n",
    "              \"MMRAcquisitonRetailCleanPrice\",\n",
    "              \"MMRCurrentAuctionAveragePrice\",\n",
    "              \"MMRCurrentAuctionCleanPrice\",\n",
    "              \"MMRCurrentRetailAveragePrice\",\n",
    "              \"MMRCurrentRetailCleanPrice\",\n",
    "              \"MMRCurrentRetailRatio\",\n",
    "              \"VehBCost\"]:\n",
    "    df[c_name] = df[c_name].mask(df[c_name] == \"?\", 0)\n",
    "    df[c_name] = df[c_name].mask(df[c_name] == \"#VALUE!\", 0)\n",
    "    df[c_name] = pd.to_numeric(df[c_name])\n",
    "    df[c_name] = df[c_name].mask(df[c_name] == 1, 0)\n",
    "    \n",
    "\n"
   ]
  },
  {
   "cell_type": "markdown",
   "metadata": {},
   "source": [
    "#### 1.3 Can you identify any clear patterns by initial exploration of the data using histogram or box plot?\n",
    "The *VehYear* column, the year in which the car was made - does seems to have a influence on the *IsBadBuy* varible.  \n",
    "It is more likely that an older car is a *kick*."
   ]
  },
  {
   "cell_type": "code",
   "execution_count": 5,
   "metadata": {},
   "outputs": [
    {
     "data": {
      "image/png": "[encoded data removed]",
      "text/plain": [
       "<Figure size 432x288 with 1 Axes>"
      ]
     },
     "metadata": {
      "needs_background": "light"
     },
     "output_type": "display_data"
    }
   ],
   "source": [
    "if(verbose):\n",
    "    ax = sns.boxplot(x=target_value, y='VehYear', data=df)\n",
    "    plt.show()"
   ]
  },
  {
   "cell_type": "markdown",
   "metadata": {},
   "source": [
    "#### 1.4 What variables did you include in the analysis and what were their roles and measurement level set? Justify your choice."
   ]
  },
  {
   "cell_type": "code",
   "execution_count": 6,
   "metadata": {},
   "outputs": [
    {
     "name": "stdout",
     "output_type": "stream",
     "text": [
      "<class 'pandas.core.frame.DataFrame'>\n",
      "Int64Index: 41002 entries, 0 to 41475\n",
      "Data columns (total 20 columns):\n",
      "VehYear                              41002 non-null int32\n",
      "VehOdo                               41002 non-null float64\n",
      "MMRAcquisitionAuctionAveragePrice    41002 non-null float64\n",
      "MMRAcquisitionAuctionCleanPrice      41002 non-null float64\n",
      "MMRAcquisitionRetailAveragePrice     41002 non-null float64\n",
      "MMRAcquisitonRetailCleanPrice        41002 non-null float64\n",
      "MMRCurrentAuctionAveragePrice        41002 non-null float64\n",
      "MMRCurrentAuctionCleanPrice          41002 non-null float64\n",
      "MMRCurrentRetailAveragePrice         41002 non-null float64\n",
      "MMRCurrentRetailCleanPrice           41002 non-null float64\n",
      "MMRCurrentRetailRatio                41002 non-null float64\n",
      "VehBCost                             41002 non-null int64\n",
      "IsOnlineSale                         41002 non-null bool\n",
      "WarrantyCost                         41002 non-null float64\n",
      "IsBadBuy                             41002 non-null bool\n",
      "Auction_ADESA                        41002 non-null uint8\n",
      "Auction_MANHEIM                      41002 non-null uint8\n",
      "Auction_OTHER                        41002 non-null uint8\n",
      "Transmission_AUTO                    41002 non-null uint8\n",
      "Transmission_MANUAL                  41002 non-null uint8\n",
      "dtypes: bool(2), float64(11), int32(1), int64(1), uint8(5)\n",
      "memory usage: 4.5 MB\n",
      "None\n"
     ]
    }
   ],
   "source": [
    "# data preparation\n",
    "df.drop(['PurchaseID','PurchaseTimestamp','PurchaseDate','WheelTypeID','PRIMEUNIT','AUCGUART','ForSale'],axis=1,inplace=True)\n",
    "df.drop(['Color','Make','WheelType','Nationality','Size', 'TopThreeAmericanName','VNST'],axis=1,inplace=True)\n",
    "df_dummies = pd.get_dummies(df)\n",
    "df_dummies = df_dummies.dropna()\n",
    "print(df_dummies.info())"
   ]
  },
  {
   "cell_type": "markdown",
   "metadata": {},
   "source": [
    "#### 1.5 What distribution scheme did you use? What data partitioning allocation did you set? Explain your selection."
   ]
  },
  {
   "cell_type": "code",
   "execution_count": 7,
   "metadata": {},
   "outputs": [],
   "source": [
    "# undersampling \n",
    "badBuy_indices = df_dummies[df_dummies[target_value] == 0].index\n",
    "\n",
    "sample_size = sum(df_dummies.IsBadBuy == 1)\n",
    "\n",
    "random_indices = np.random.choice(badBuy_indices, sample_size, replace=False)\n",
    "\n",
    "Non_badBuy_sample = df_dummies.loc[random_indices]\n",
    "\n",
    "Badbuys = df_dummies.loc[df_dummies[target_value]==1]\n",
    "\n",
    "sample_data = Badbuys.append(Non_badBuy_sample,ignore_index=True)"
   ]
  },
  {
   "cell_type": "markdown",
   "metadata": {},
   "source": [
    "## Task 2 - Predictive Modeling Using Decision Trees"
   ]
  },
  {
   "cell_type": "code",
   "execution_count": 8,
   "metadata": {},
   "outputs": [
    {
     "name": "stderr",
     "output_type": "stream",
     "text": [
      "C:\\Users\\Computer\\Anaconda3\\lib\\site-packages\\ipykernel_launcher.py:14: FutureWarning: Method .as_matrix will be removed in a future version. Use .values instead.\n",
      "  \n"
     ]
    }
   ],
   "source": [
    "\n",
    "\n",
    "# target/input split\n",
    "y = df_dummies[target_value]\n",
    "X = df_dummies.drop([target_value],axis = 1)\n",
    "\n",
    "# setting random state\n",
    "rs = 10\n",
    "\n",
    "\n",
    "X = sample_data.drop([target_value],axis = 1)\n",
    "y = sample_data[target_value]\n",
    "\n",
    "X_mat = X.as_matrix()\n",
    "X_train, X_test, y_train, y_test = train_test_split(X_mat, y, test_size=0.3, stratify=y, random_state=rs)"
   ]
  },
  {
   "cell_type": "markdown",
   "metadata": {},
   "source": [
    "#### 2.1 Build a decision tree using the default setting. "
   ]
  },
  {
   "cell_type": "code",
   "execution_count": 9,
   "metadata": {},
   "outputs": [
    {
     "name": "stdout",
     "output_type": "stream",
     "text": [
      "              precision    recall  f1-score   support\n",
      "\n",
      "       False       0.55      0.54      0.55      1590\n",
      "        True       0.55      0.56      0.56      1591\n",
      "\n",
      "   micro avg       0.55      0.55      0.55      3181\n",
      "   macro avg       0.55      0.55      0.55      3181\n",
      "weighted avg       0.55      0.55      0.55      3181\n",
      "\n"
     ]
    }
   ],
   "source": [
    "model = DecisionTreeClassifier(random_state=rs)\n",
    "model.fit(X_train, y_train)\n",
    "y_pred = model.predict(X_test)\n",
    "if(verbose):\n",
    "    print(classification_report(y_test, y_pred))"
   ]
  },
  {
   "cell_type": "markdown",
   "metadata": {},
   "source": [
    "#### 2.2 Build another decision tree tuned with GridSearchCV"
   ]
  },
  {
   "cell_type": "code",
   "execution_count": 10,
   "metadata": {},
   "outputs": [
    {
     "name": "stdout",
     "output_type": "stream",
     "text": [
      "Train accuracy: 0.636167632394556\n",
      "Test accuracy: 0.5897516504243948\n",
      "              precision    recall  f1-score   support\n",
      "\n",
      "       False       0.61      0.49      0.55      1590\n",
      "        True       0.58      0.69      0.63      1591\n",
      "\n",
      "   micro avg       0.59      0.59      0.59      3181\n",
      "   macro avg       0.59      0.59      0.59      3181\n",
      "weighted avg       0.59      0.59      0.59      3181\n",
      "\n",
      "{'criterion': 'entropy', 'max_depth': 5, 'min_samples_leaf': 20}\n"
     ]
    }
   ],
   "source": [
    "params = {'criterion': ['gini', 'entropy'],\n",
    "          'max_depth': range(2, 7),\n",
    "          'min_samples_leaf': range(20, 60, 10)}\n",
    "\n",
    "cv = GridSearchCV(param_grid=params, estimator=DecisionTreeClassifier(random_state=rs), cv=10)\n",
    "cv.fit(X_train, y_train)\n",
    "\n",
    "print(\"Train accuracy:\", cv.score(X_train, y_train))\n",
    "print(\"Test accuracy:\", cv.score(X_test, y_test))\n",
    "\n",
    "\n",
    "y_pred = cv.predict(X_test)\n",
    "print(classification_report(y_test, y_pred))\n",
    "\n",
    "# print parameters of the best model\n",
    "print(cv.best_params_)"
   ]
  },
  {
   "cell_type": "markdown",
   "metadata": {},
   "source": [
    "#### 2.3 What is the significant difference do you see between these two decision tree models?\n",
    "How do they compare performance-wise?\n",
    "Explain why those changes may have happened."
   ]
  },
  {
   "cell_type": "markdown",
   "metadata": {},
   "source": [
    "#### 2.4 From the better model, can you identify which cars could potential be *kicks*?"
   ]
  },
  {
   "cell_type": "markdown",
   "metadata": {},
   "source": [
    "## Task 3 - Predictive Modeling Using Regression"
   ]
  },
  {
   "cell_type": "code",
   "execution_count": 11,
   "metadata": {},
   "outputs": [
    {
     "name": "stdout",
     "output_type": "stream",
     "text": [
      "<class 'pandas.core.frame.DataFrame'>\n",
      "RangeIndex: 10602 entries, 0 to 10601\n",
      "Data columns (total 20 columns):\n",
      "VehYear                              10602 non-null int32\n",
      "VehOdo                               10602 non-null float64\n",
      "MMRAcquisitionAuctionAveragePrice    10602 non-null float64\n",
      "MMRAcquisitionAuctionCleanPrice      10602 non-null float64\n",
      "MMRAcquisitionRetailAveragePrice     10602 non-null float64\n",
      "MMRAcquisitonRetailCleanPrice        10602 non-null float64\n",
      "MMRCurrentAuctionAveragePrice        10602 non-null float64\n",
      "MMRCurrentAuctionCleanPrice          10602 non-null float64\n",
      "MMRCurrentRetailAveragePrice         10602 non-null float64\n",
      "MMRCurrentRetailCleanPrice           10602 non-null float64\n",
      "MMRCurrentRetailRatio                10602 non-null float64\n",
      "VehBCost                             10602 non-null int64\n",
      "IsOnlineSale                         10602 non-null bool\n",
      "WarrantyCost                         10602 non-null float64\n",
      "IsBadBuy                             10602 non-null bool\n",
      "Auction_ADESA                        10602 non-null uint8\n",
      "Auction_MANHEIM                      10602 non-null uint8\n",
      "Auction_OTHER                        10602 non-null uint8\n",
      "Transmission_AUTO                    10602 non-null uint8\n",
      "Transmission_MANUAL                  10602 non-null uint8\n",
      "dtypes: bool(2), float64(11), int32(1), int64(1), uint8(5)\n",
      "memory usage: 1.1 MB\n"
     ]
    },
    {
     "name": "stderr",
     "output_type": "stream",
     "text": [
      "C:\\Users\\Computer\\Anaconda3\\lib\\site-packages\\ipykernel_launcher.py:8: FutureWarning: Method .as_matrix will be removed in a future version. Use .values instead.\n",
      "  \n"
     ]
    }
   ],
   "source": [
    "sample_data.info()\n",
    "sample_data.drop(['Transmission_AUTO','Transmission_MANUAL','Auction_OTHER','Auction_MANHEIM','Auction_ADESA'],axis=1,inplace=True)\n",
    "\n",
    "\n",
    "X = sample_data.drop([target_value],axis = 1)\n",
    "y = sample_data[target_value]\n",
    "\n",
    "X_mat = X.as_matrix()\n",
    "X_train, X_test, y_train, y_test = train_test_split(X_mat, y, test_size=0.3, stratify=y, random_state=rs)"
   ]
  },
  {
   "cell_type": "markdown",
   "metadata": {},
   "source": [
    "#### 3.1 In preparation for regression, is any imputation of missing values needed for this data set? List the variables that did.\n",
    "> 509 cars need *MMR___* data  \n",
    "> 44 cars have already been removed due to missing information (year)"
   ]
  },
  {
   "cell_type": "code",
   "execution_count": 12,
   "metadata": {},
   "outputs": [
    {
     "name": "stdout",
     "output_type": "stream",
     "text": [
      "\n",
      "The following columns still have missing values:\n"
     ]
    }
   ],
   "source": [
    "if(verbose):\n",
    "    print(\"\\nThe following columns still have missing values:\")\n",
    "nan_list = list()\n",
    "for c_name in list(sample_data):\n",
    "    if(sample_data[c_name].isnull().values.any()):\n",
    "        nan_list.append(c_name)\n",
    "        if(verbose):\n",
    "            print(c_name)\n",
    "\n",
    "sample_data = sample_data.dropna(subset=nan_list) "
   ]
  },
  {
   "cell_type": "markdown",
   "metadata": {},
   "source": [
    "#### 3.2 Apply transformation method(s) to the variable(s) that need it. List the variables that needed it"
   ]
  },
  {
   "cell_type": "code",
   "execution_count": 13,
   "metadata": {},
   "outputs": [
    {
     "data": {
      "image/png": "[encoded data removed]",
      "text/plain": [
       "<Figure size 720x720 with 9 Axes>"
      ]
     },
     "metadata": {
      "needs_background": "light"
     },
     "output_type": "display_data"
    }
   ],
   "source": [
    "import seaborn as sns\n",
    "import matplotlib.pyplot as plt\n",
    "\n",
    "def plot_skewed_columns(df):\n",
    "    # setting up subplots for easier visualisation\n",
    "    f, axes = plt.subplots(3,3, figsize=(10,10), sharex=False)\n",
    "\n",
    "    sns.distplot(df['MMRAcquisitionAuctionAveragePrice'].dropna(), hist=False, ax=axes[0,0])\n",
    "    sns.distplot(df['MMRAcquisitionAuctionCleanPrice'].dropna(), hist=False, ax=axes[0,1])\n",
    "    sns.distplot(df['MMRAcquisitionRetailAveragePrice'].dropna(), hist=False, ax=axes[0,2])\n",
    "    sns.distplot(df['MMRAcquisitonRetailCleanPrice'].dropna(), hist=False, ax=axes[1,0])\n",
    "    sns.distplot(df['MMRCurrentAuctionAveragePrice'].dropna(), hist=False, ax=axes[1,1])\n",
    "    sns.distplot(df['MMRCurrentAuctionCleanPrice'].dropna(), hist=False, ax=axes[1,2])\n",
    "    sns.distplot(df['MMRCurrentRetailAveragePrice'].dropna(), hist=False, ax=axes[2,0])\n",
    "    sns.distplot(df['MMRCurrentRetailCleanPrice'].dropna(), hist=False, ax=axes[2,1])\n",
    "    sns.distplot(df['MMRCurrentRetailRatio'].dropna(), hist=False, ax=axes[2,2])\n",
    "\n",
    "    plt.show()\n",
    "    \n",
    "plot_skewed_columns(df)"
   ]
  },
  {
   "cell_type": "code",
   "execution_count": 14,
   "metadata": {},
   "outputs": [
    {
     "data": {
      "image/png": "[encoded data removed]",
      "text/plain": [
       "<Figure size 720x720 with 9 Axes>"
      ]
     },
     "metadata": {
      "needs_background": "light"
     },
     "output_type": "display_data"
    }
   ],
   "source": [
    "import numpy as np\n",
    "\n",
    "# list columns to be transformed\n",
    "columns_to_transform = ['MMRAcquisitionAuctionAveragePrice', 'MMRAcquisitionAuctionCleanPrice', 'MMRAcquisitionRetailAveragePrice',\n",
    "                        'MMRAcquisitonRetailCleanPrice','MMRCurrentAuctionAveragePrice', 'MMRCurrentAuctionCleanPrice',\n",
    "                        'MMRCurrentRetailAveragePrice', 'MMRCurrentRetailCleanPrice','MMRCurrentRetailRatio']\n",
    "\n",
    "# copy the dataframe\n",
    "df_log = sample_data.copy()\n",
    "\n",
    "# transform the columns with np.log\n",
    "for col in columns_to_transform:\n",
    "    df_log[col] = df_log[col].apply(lambda x: x+1)\n",
    "    df_log[col] = df_log[col].apply(np.log)\n",
    "\n",
    "# plot them again to show the distribution\n",
    "plot_skewed_columns(df_log)"
   ]
  },
  {
   "cell_type": "code",
   "execution_count": 15,
   "metadata": {},
   "outputs": [
    {
     "name": "stderr",
     "output_type": "stream",
     "text": [
      "C:\\Users\\Computer\\Anaconda3\\lib\\site-packages\\ipykernel_launcher.py:4: FutureWarning: Method .as_matrix will be removed in a future version. Use .values instead.\n",
      "  after removing the cwd from sys.path.\n",
      "C:\\Users\\Computer\\Anaconda3\\lib\\site-packages\\sklearn\\utils\\validation.py:595: DataConversionWarning: Data with input dtype object was converted to float64 by StandardScaler.\n",
      "  warnings.warn(msg, DataConversionWarning)\n",
      "C:\\Users\\Computer\\Anaconda3\\lib\\site-packages\\sklearn\\utils\\validation.py:595: DataConversionWarning: Data with input dtype object was converted to float64 by StandardScaler.\n",
      "  warnings.warn(msg, DataConversionWarning)\n",
      "C:\\Users\\Computer\\Anaconda3\\lib\\site-packages\\sklearn\\utils\\validation.py:595: DataConversionWarning: Data with input dtype object was converted to float64 by StandardScaler.\n",
      "  warnings.warn(msg, DataConversionWarning)\n"
     ]
    }
   ],
   "source": [
    "y_log = df_log[target_value]\n",
    "X_log = df_log.drop([target_value], axis=1)\n",
    "\n",
    "X_mat_log = X_log.as_matrix()\n",
    "X_train_log, X_test_log, y_train_log, y_test_log = train_test_split(X_mat_log, y_log, test_size=0.3, stratify=y_log, \n",
    "                                                                    random_state=rs)\n",
    "\n",
    "# standardise them\n",
    "scaler_log = StandardScaler()\n",
    "X_train_log = scaler_log.fit_transform(X_train_log, y_train_log)\n",
    "X_test_log = scaler_log.transform(X_test_log)"
   ]
  },
  {
   "cell_type": "markdown",
   "metadata": {},
   "source": [
    "#### 3.3 Build a regression model using the default regression method with all inputs."
   ]
  },
  {
   "cell_type": "code",
   "execution_count": 16,
   "metadata": {},
   "outputs": [
    {
     "name": "stdout",
     "output_type": "stream",
     "text": [
      "Train accuracy: 0.6228271122490231\n",
      "Test accuracy: 0.6076705438541339\n",
      "              precision    recall  f1-score   support\n",
      "\n",
      "       False       0.60      0.62      0.61      1590\n",
      "        True       0.61      0.59      0.60      1591\n",
      "\n",
      "   micro avg       0.61      0.61      0.61      3181\n",
      "   macro avg       0.61      0.61      0.61      3181\n",
      "weighted avg       0.61      0.61      0.61      3181\n",
      "\n"
     ]
    },
    {
     "name": "stderr",
     "output_type": "stream",
     "text": [
      "C:\\Users\\Computer\\Anaconda3\\lib\\site-packages\\sklearn\\linear_model\\logistic.py:433: FutureWarning: Default solver will be changed to 'lbfgs' in 0.22. Specify a solver to silence this warning.\n",
      "  FutureWarning)\n"
     ]
    }
   ],
   "source": [
    "# fit it to training data\n",
    "model = LogisticRegression(random_state=rs)\n",
    "model.fit(X_train_log, y_train_log)\n",
    "\n",
    "# classification report on test data\n",
    "print(\"Train accuracy:\", model.score(X_train_log, y_train_log))\n",
    "print(\"Test accuracy:\", model.score(X_test_log, y_test_log))\n",
    "\n",
    "\n",
    "y_pred = model.predict(X_test_log)\n",
    "if(verbose):\n",
    "    print(classification_report(y_test_log, y_pred))"
   ]
  },
  {
   "cell_type": "markdown",
   "metadata": {},
   "source": [
    "#### 3.3 Build a regression model using the default regression method with all inputs. Once you done it, build another one and tune it using GridSearchCV"
   ]
  },
  {
   "cell_type": "code",
   "execution_count": 17,
   "metadata": {},
   "outputs": [
    {
     "name": "stdout",
     "output_type": "stream",
     "text": [
      "Train accuracy: 0.6244441449939361\n",
      "Test accuracy: 0.6082992769569318\n",
      "              precision    recall  f1-score   support\n",
      "\n",
      "       False       0.61      0.62      0.61      1590\n",
      "        True       0.61      0.59      0.60      1591\n",
      "\n",
      "   micro avg       0.61      0.61      0.61      3181\n",
      "   macro avg       0.61      0.61      0.61      3181\n",
      "weighted avg       0.61      0.61      0.61      3181\n",
      "\n",
      "{'C': 1000}\n"
     ]
    },
    {
     "name": "stderr",
     "output_type": "stream",
     "text": [
      "C:\\Users\\Computer\\Anaconda3\\lib\\site-packages\\sklearn\\linear_model\\logistic.py:433: FutureWarning: Default solver will be changed to 'lbfgs' in 0.22. Specify a solver to silence this warning.\n",
      "  FutureWarning)\n"
     ]
    }
   ],
   "source": [
    "# grid search CV\n",
    "params = {'C': [pow(10, x) for x in range(-6, 4)]}\n",
    "\n",
    "cv = GridSearchCV(param_grid=params, estimator=LogisticRegression(random_state=rs), cv=10, n_jobs=-1)\n",
    "cv.fit(X_train_log, y_train_log)\n",
    "\n",
    "# test the best model\n",
    "print(\"Train accuracy:\", cv.score(X_train_log, y_train_log))\n",
    "print(\"Test accuracy:\", cv.score(X_test_log, y_test_log))\n",
    "\n",
    "y_pred = cv.predict(X_test_log)\n",
    "print(classification_report(y_test_log, y_pred))\n",
    "\n",
    "print(cv.best_params_)"
   ]
  },
  {
   "cell_type": "markdown",
   "metadata": {},
   "source": [
    "##### 3.3.h.Name the regression function used."
   ]
  },
  {
   "cell_type": "markdown",
   "metadata": {},
   "source": [
    "we use the function LogisticRegression() to build up the model."
   ]
  },
  {
   "cell_type": "markdown",
   "metadata": {},
   "source": [
    "##### 3.3.i.How much was the difference in performance of two models build, default and optimal?"
   ]
  },
  {
   "cell_type": "markdown",
   "metadata": {},
   "source": [
    "It is slightly improved as we can see the precision on True is 0.61 on default model but 0.62 on optimal model."
   ]
  },
  {
   "cell_type": "markdown",
   "metadata": {},
   "source": [
    "##### 3.3.j.Show the set parameters for the best model. What are the parameters used? Explain your decision. What are the optimal parameters?"
   ]
  },
  {
   "cell_type": "code",
   "execution_count": 18,
   "metadata": {},
   "outputs": [
    {
     "name": "stdout",
     "output_type": "stream",
     "text": [
      "{'C': 1000}\n"
     ]
    }
   ],
   "source": [
    "print(cv.best_params_)"
   ]
  },
  {
   "cell_type": "markdown",
   "metadata": {},
   "source": [
    "It came from the function GridSearchCV which trys different parameters from a typical range of values and pick up the optimal one. In sklearn logistic regression, regularisation is implemented in the hyperparameter C, which denotes the inverse of regularisation strength. Smaller C means stronger regularisation."
   ]
  },
  {
   "cell_type": "markdown",
   "metadata": {},
   "source": [
    "##### 3.3.k.Report which variables are included in the regression model."
   ]
  },
  {
   "cell_type": "code",
   "execution_count": 19,
   "metadata": {},
   "outputs": [
    {
     "name": "stdout",
     "output_type": "stream",
     "text": [
      "<class 'pandas.core.frame.DataFrame'>\n",
      "Int64Index: 10602 entries, 0 to 10601\n",
      "Data columns (total 15 columns):\n",
      "VehYear                              10602 non-null int32\n",
      "VehOdo                               10602 non-null float64\n",
      "MMRAcquisitionAuctionAveragePrice    10602 non-null float64\n",
      "MMRAcquisitionAuctionCleanPrice      10602 non-null float64\n",
      "MMRAcquisitionRetailAveragePrice     10602 non-null float64\n",
      "MMRAcquisitonRetailCleanPrice        10602 non-null float64\n",
      "MMRCurrentAuctionAveragePrice        10602 non-null float64\n",
      "MMRCurrentAuctionCleanPrice          10602 non-null float64\n",
      "MMRCurrentRetailAveragePrice         10602 non-null float64\n",
      "MMRCurrentRetailCleanPrice           10602 non-null float64\n",
      "MMRCurrentRetailRatio                10602 non-null float64\n",
      "VehBCost                             10602 non-null int64\n",
      "IsOnlineSale                         10602 non-null bool\n",
      "WarrantyCost                         10602 non-null float64\n",
      "IsBadBuy                             10602 non-null bool\n",
      "dtypes: bool(2), float64(11), int32(1), int64(1)\n",
      "memory usage: 1.1 MB\n"
     ]
    }
   ],
   "source": [
    "sample_data.info()"
   ]
  },
  {
   "cell_type": "markdown",
   "metadata": {},
   "source": [
    "##### 3.3.l.Report the top-5 important variables (in the order) in the model."
   ]
  },
  {
   "cell_type": "code",
   "execution_count": 20,
   "metadata": {},
   "outputs": [
    {
     "name": "stdout",
     "output_type": "stream",
     "text": [
      "MMRAcquisitionRetailAveragePrice : 1.4435361078564692\n",
      "MMRAcquisitionAuctionAveragePrice : -1.30947423664608\n",
      "MMRCurrentRetailCleanPrice : -0.6680098178244985\n",
      "MMRCurrentAuctionAveragePrice : 0.6580077655704468\n",
      "MMRCurrentAuctionCleanPrice : 0.548509007836469\n"
     ]
    }
   ],
   "source": [
    "# grab feature importances from the model and feature name from the original X\n",
    "coef = model.coef_[0]\n",
    "feature_names = X_log.columns\n",
    "\n",
    "# sort them out in descending order\n",
    "indices = np.argsort(np.absolute(coef))\n",
    "indices = np.flip(indices, axis=0)\n",
    "\n",
    "# limit to 5 features, you can leave this out to print out everything\n",
    "indices = indices[:5]\n",
    "\n",
    "for i in indices:\n",
    "    print(feature_names[i], ':', coef[i])"
   ]
  },
  {
   "cell_type": "markdown",
   "metadata": {},
   "source": [
    "##### 3.3.m.What is classification accuracy on training and test datasets?"
   ]
  },
  {
   "cell_type": "code",
   "execution_count": 21,
   "metadata": {},
   "outputs": [
    {
     "name": "stdout",
     "output_type": "stream",
     "text": [
      "              precision    recall  f1-score   support\n",
      "\n",
      "       False       0.61      0.62      0.61      1590\n",
      "        True       0.61      0.59      0.60      1591\n",
      "\n",
      "   micro avg       0.61      0.61      0.61      3181\n",
      "   macro avg       0.61      0.61      0.61      3181\n",
      "weighted avg       0.61      0.61      0.61      3181\n",
      "\n"
     ]
    }
   ],
   "source": [
    "print(classification_report(y_test_log, y_pred))"
   ]
  },
  {
   "cell_type": "markdown",
   "metadata": {},
   "source": [
    "##### 3.3.n.Report any sign of overfitting."
   ]
  },
  {
   "cell_type": "markdown",
   "metadata": {},
   "source": [
    "Train accuracy: 0.621749090419081\n",
    "Test accuracy: 0.6089280100597296\n",
    "We can see the test accuracy is lower than train accuracy due to the overfitting. "
   ]
  },
  {
   "cell_type": "markdown",
   "metadata": {},
   "source": [
    "#### 3.4 Build another regression model using the subset of inputs selected by RFE and selection by model method. Answer the followings:"
   ]
  },
  {
   "cell_type": "code",
   "execution_count": 22,
   "metadata": {},
   "outputs": [
    {
     "name": "stderr",
     "output_type": "stream",
     "text": [
      "C:\\Users\\Computer\\Anaconda3\\lib\\site-packages\\sklearn\\linear_model\\logistic.py:758: ConvergenceWarning: lbfgs failed to converge. Increase the number of iterations.\n",
      "  \"of iterations.\", ConvergenceWarning)\n",
      "C:\\Users\\Computer\\Anaconda3\\lib\\site-packages\\sklearn\\linear_model\\logistic.py:758: ConvergenceWarning: lbfgs failed to converge. Increase the number of iterations.\n",
      "  \"of iterations.\", ConvergenceWarning)\n",
      "C:\\Users\\Computer\\Anaconda3\\lib\\site-packages\\sklearn\\linear_model\\logistic.py:758: ConvergenceWarning: lbfgs failed to converge. Increase the number of iterations.\n",
      "  \"of iterations.\", ConvergenceWarning)\n"
     ]
    },
    {
     "name": "stdout",
     "output_type": "stream",
     "text": [
      "Train accuracy: 0.6244441449939361\n",
      "Test accuracy: 0.6082992769569318\n",
      "              precision    recall  f1-score   support\n",
      "\n",
      "       False       0.61      0.62      0.61      1590\n",
      "        True       0.61      0.59      0.60      1591\n",
      "\n",
      "   micro avg       0.61      0.61      0.61      3181\n",
      "   macro avg       0.61      0.61      0.61      3181\n",
      "weighted avg       0.61      0.61      0.61      3181\n",
      "\n",
      "{'C': 1000}\n"
     ]
    },
    {
     "name": "stderr",
     "output_type": "stream",
     "text": [
      "C:\\Users\\Computer\\Anaconda3\\lib\\site-packages\\sklearn\\linear_model\\logistic.py:433: FutureWarning: Default solver will be changed to 'lbfgs' in 0.22. Specify a solver to silence this warning.\n",
      "  FutureWarning)\n"
     ]
    }
   ],
   "source": [
    "from sklearn.feature_selection import RFECV\n",
    "\n",
    "rfe = RFECV(estimator = LogisticRegression(random_state=rs,solver = 'lbfgs'), cv=10)\n",
    "rfe.fit(X_train_log, y_train_log) # run the RFECV\n",
    "\n",
    "\n",
    "\n",
    "X_train_sel = rfe.transform(X_train_log)\n",
    "X_test_sel = rfe.transform(X_test_log)\n",
    "\n",
    "params = {'C': [pow(10, x) for x in range(-6, 4)]}\n",
    "\n",
    "cv = GridSearchCV(param_grid=params, estimator=LogisticRegression(random_state=rs), cv=10, n_jobs=-1)\n",
    "cv.fit(X_train_sel, y_train_log)\n",
    "\n",
    "# test the best model\n",
    "print(\"Train accuracy:\", cv.score(X_train_sel, y_train_log))\n",
    "print(\"Test accuracy:\", cv.score(X_test_sel, y_test_log))\n",
    "\n",
    "y_pred = cv.predict(X_test_sel)\n",
    "print(classification_report(y_test_log, y_pred))\n",
    "\n",
    "# print parameters of the best model\n",
    "print(cv.best_params_)"
   ]
  },
  {
   "cell_type": "markdown",
   "metadata": {},
   "source": [
    "##### 3.4.a.Report which variables are included in the regression model."
   ]
  },
  {
   "cell_type": "code",
   "execution_count": 23,
   "metadata": {},
   "outputs": [
    {
     "name": "stdout",
     "output_type": "stream",
     "text": [
      "Original feature set 14\n",
      "Number of features after elimination 14\n"
     ]
    },
    {
     "data": {
      "text/plain": [
       "{'cv': 10,\n",
       " 'estimator__C': 1.0,\n",
       " 'estimator__class_weight': None,\n",
       " 'estimator__dual': False,\n",
       " 'estimator__fit_intercept': True,\n",
       " 'estimator__intercept_scaling': 1,\n",
       " 'estimator__max_iter': 100,\n",
       " 'estimator__multi_class': 'warn',\n",
       " 'estimator__n_jobs': None,\n",
       " 'estimator__penalty': 'l2',\n",
       " 'estimator__random_state': 10,\n",
       " 'estimator__solver': 'lbfgs',\n",
       " 'estimator__tol': 0.0001,\n",
       " 'estimator__verbose': 0,\n",
       " 'estimator__warm_start': False,\n",
       " 'estimator': LogisticRegression(C=1.0, class_weight=None, dual=False, fit_intercept=True,\n",
       "           intercept_scaling=1, max_iter=100, multi_class='warn',\n",
       "           n_jobs=None, penalty='l2', random_state=10, solver='lbfgs',\n",
       "           tol=0.0001, verbose=0, warm_start=False),\n",
       " 'min_features_to_select': 1,\n",
       " 'n_jobs': None,\n",
       " 'scoring': None,\n",
       " 'step': 1,\n",
       " 'verbose': 0}"
      ]
     },
     "execution_count": 23,
     "metadata": {},
     "output_type": "execute_result"
    }
   ],
   "source": [
    "# comparing how many variables before and after\n",
    "print(\"Original feature set\", X_train_log.shape[1])\n",
    "print(\"Number of features after elimination\", rfe.n_features_)\n",
    "\n",
    "rfe.n_features_\n",
    "rfe.get_params()"
   ]
  },
  {
   "cell_type": "markdown",
   "metadata": {},
   "source": [
    "##### 3.4.b.Report the top-5 important variables (in the order) in the model."
   ]
  },
  {
   "cell_type": "markdown",
   "metadata": {},
   "source": [
    "##### 3.4.c.What are the parameters used? Explain your choices. What are the optimal parameters? Which regression function is being used?"
   ]
  },
  {
   "cell_type": "code",
   "execution_count": 24,
   "metadata": {
    "scrolled": true
   },
   "outputs": [
    {
     "data": {
      "text/plain": [
       "{'cv': 10,\n",
       " 'estimator__C': 1.0,\n",
       " 'estimator__class_weight': None,\n",
       " 'estimator__dual': False,\n",
       " 'estimator__fit_intercept': True,\n",
       " 'estimator__intercept_scaling': 1,\n",
       " 'estimator__max_iter': 100,\n",
       " 'estimator__multi_class': 'warn',\n",
       " 'estimator__n_jobs': None,\n",
       " 'estimator__penalty': 'l2',\n",
       " 'estimator__random_state': 10,\n",
       " 'estimator__solver': 'lbfgs',\n",
       " 'estimator__tol': 0.0001,\n",
       " 'estimator__verbose': 0,\n",
       " 'estimator__warm_start': False,\n",
       " 'estimator': LogisticRegression(C=1.0, class_weight=None, dual=False, fit_intercept=True,\n",
       "           intercept_scaling=1, max_iter=100, multi_class='warn',\n",
       "           n_jobs=None, penalty='l2', random_state=10, solver='lbfgs',\n",
       "           tol=0.0001, verbose=0, warm_start=False),\n",
       " 'min_features_to_select': 1,\n",
       " 'n_jobs': None,\n",
       " 'scoring': None,\n",
       " 'step': 1,\n",
       " 'verbose': 0}"
      ]
     },
     "execution_count": 24,
     "metadata": {},
     "output_type": "execute_result"
    }
   ],
   "source": [
    "rfe.get_params()"
   ]
  },
  {
   "cell_type": "markdown",
   "metadata": {},
   "source": [
    "parameter C is used"
   ]
  },
  {
   "cell_type": "markdown",
   "metadata": {},
   "source": [
    "##### 3.4.d.Report any sign of overfitting."
   ]
  },
  {
   "cell_type": "markdown",
   "metadata": {},
   "source": [
    "##### 3.4.e.What is classification accuracy on training and test datasets?"
   ]
  },
  {
   "cell_type": "markdown",
   "metadata": {},
   "source": [
    "##### 3.4.f.Did it improve/worsen the performance? Explain why those changes may have happened."
   ]
  },
  {
   "cell_type": "markdown",
   "metadata": {},
   "source": [
    "#### 3.5 Using the best regression model, which cars could potential be “kicks”? Can you provide some descriptive summary of those cars?"
   ]
  }
 ],
 "metadata": {
  "kernelspec": {
   "display_name": "Python 3",
   "language": "python",
   "name": "python3"
  },
  "language_info": {
   "codemirror_mode": {
    "name": "ipython",
    "version": 3
   },
   "file_extension": ".py",
   "mimetype": "text/x-python",
   "name": "python",
   "nbconvert_exporter": "python",
   "pygments_lexer": "ipython3",
   "version": "3.7.1"
  }
 },
 "nbformat": 4,
 "nbformat_minor": 2
}
